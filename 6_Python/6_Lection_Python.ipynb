{
 "cells": [
  {
   "attachments": {},
   "cell_type": "markdown",
   "metadata": {},
   "source": [
    "# Python"
   ]
  },
  {
   "attachments": {},
   "cell_type": "markdown",
   "metadata": {},
   "source": [
    "Let us compare some basic tasks in C and in Python:"
   ]
  },
  {
   "cell_type": "code",
   "execution_count": 1,
   "metadata": {},
   "outputs": [],
   "source": [
    "#C:\n",
    "c_code_print_answer = '''\n",
    "string answer = get_string(\"What is your name?: \");\n",
    "printf(\"hello, %s\\n\", answer);\n",
    "'''"
   ]
  },
  {
   "cell_type": "code",
   "execution_count": 5,
   "metadata": {},
   "outputs": [
    {
     "name": "stdout",
     "output_type": "stream",
     "text": [
      "hello, Alex\n",
      "hello, Alex\n"
     ]
    }
   ],
   "source": [
    "# Python:\n",
    "answer = input(\"What is your name? \")\n",
    "print(\"hello, \" + answer)\n",
    "print(f\"hello, {answer}\")"
   ]
  },
  {
   "attachments": {},
   "cell_type": "markdown",
   "metadata": {},
   "source": [
    "We can see that in Python there is no Type of variable,  \n",
    "python interpreter is smart enough to understand what the type of variable is"
   ]
  },
  {
   "attachments": {},
   "cell_type": "markdown",
   "metadata": {},
   "source": [
    "## Data Types\n",
    "- bool\n",
    "- int - in python there is no need to use long, since INT can get as big as we need (no issue of Integer Overflow)\n",
    "- float - no double; floating point imprecision is still a problem that remains\n",
    "    - however, there are scientific and financial libraries for accurate computations\n",
    "- str"
   ]
  },
  {
   "attachments": {},
   "cell_type": "markdown",
   "metadata": {},
   "source": [
    "- range\n",
    "- list\n",
    "- tuple\n",
    "- dict\n",
    "- set   \n",
    "   ..."
   ]
  },
  {
   "cell_type": "code",
   "execution_count": 1,
   "metadata": {},
   "outputs": [],
   "source": [
    "import cs50"
   ]
  },
  {
   "attachments": {},
   "cell_type": "markdown",
   "metadata": {},
   "source": [
    "# Compiler / Interpreter"
   ]
  },
  {
   "attachments": {},
   "cell_type": "markdown",
   "metadata": {},
   "source": [
    "Python is not only the name of programming language, but also the name of **program** that **Interprets** language for us  \n",
    "So we sort of skip the part of Compiling the program and Run it  \n",
    "However, this might be slower "
   ]
  },
  {
   "attachments": {},
   "cell_type": "markdown",
   "metadata": {},
   "source": [
    "In Python, we do not Have to create Main function"
   ]
  },
  {
   "attachments": {},
   "cell_type": "markdown",
   "metadata": {},
   "source": [
    "# Namespace  \n",
    "Python allows us to namespace functions that come from libraries"
   ]
  },
  {
   "attachments": {},
   "cell_type": "markdown",
   "metadata": {},
   "source": [
    "there is a problem in C:  \n",
    "if you were using the \"get_string\" function from one library, you could not use another library that has the same function names together"
   ]
  },
  {
   "attachments": {},
   "cell_type": "markdown",
   "metadata": {},
   "source": [
    "in Python and JavaScript and in Java, we have support of namespaces  \n",
    "so we can isolate variables and function names to some sort of containers in memory"
   ]
  },
  {
   "cell_type": "code",
   "execution_count": 2,
   "metadata": {},
   "outputs": [
    {
     "name": "stdout",
     "output_type": "stream",
     "text": [
      "x = 1, y = 2, x+y = 12\n"
     ]
    }
   ],
   "source": [
    "x = input(\"x: \")\n",
    "y = input(\"y: \")\n",
    "print(f\"x = {x}, y = {y}, x+y = {x + y}\")"
   ]
  },
  {
   "attachments": {},
   "cell_type": "markdown",
   "metadata": {},
   "source": [
    "if we enter 1 and 2 as inputs, we see the wrong answer  \n",
    "this happens because inputs are automatically interpreted as strings"
   ]
  },
  {
   "attachments": {},
   "cell_type": "markdown",
   "metadata": {},
   "source": [
    "- type CAST:\n",
    "    - to fix this, we can explicitly convert input to integers using special function: *int()*"
   ]
  },
  {
   "cell_type": "code",
   "execution_count": 4,
   "metadata": {},
   "outputs": [
    {
     "name": "stdout",
     "output_type": "stream",
     "text": [
      "x = 1, y = 2, x + y = 3\n",
      "\n"
     ]
    }
   ],
   "source": [
    "x = int(input(\"x: \"))\n",
    "y = int(input(\"y: \"))\n",
    "print(f\"x = {x}, y = {y}, x + y = {x + y}\")\n",
    "print()"
   ]
  },
  {
   "attachments": {},
   "cell_type": "markdown",
   "metadata": {},
   "source": [
    "we fixed the problem, however using such function we should consider cases, when user by accident enters wrong input: for example: \"cat\""
   ]
  },
  {
   "cell_type": "code",
   "execution_count": 5,
   "metadata": {},
   "outputs": [
    {
     "ename": "ValueError",
     "evalue": "invalid literal for int() with base 10: 'cat'",
     "output_type": "error",
     "traceback": [
      "\u001b[0;31m---------------------------------------------------------------------------\u001b[0m",
      "\u001b[0;31mValueError\u001b[0m                                Traceback (most recent call last)",
      "Cell \u001b[0;32mIn[5], line 1\u001b[0m\n\u001b[0;32m----> 1\u001b[0m x \u001b[39m=\u001b[39m \u001b[39mint\u001b[39;49m(\u001b[39minput\u001b[39;49m(\u001b[39m\"\u001b[39;49m\u001b[39mx: \u001b[39;49m\u001b[39m\"\u001b[39;49m))\n\u001b[1;32m      2\u001b[0m y \u001b[39m=\u001b[39m \u001b[39mint\u001b[39m(\u001b[39minput\u001b[39m(\u001b[39m\"\u001b[39m\u001b[39my: \u001b[39m\u001b[39m\"\u001b[39m))\n\u001b[1;32m      3\u001b[0m \u001b[39mprint\u001b[39m(\u001b[39mf\u001b[39m\u001b[39m\"\u001b[39m\u001b[39mx = \u001b[39m\u001b[39m{\u001b[39;00mx\u001b[39m}\u001b[39;00m\u001b[39m, y = \u001b[39m\u001b[39m{\u001b[39;00my\u001b[39m}\u001b[39;00m\u001b[39m, x + y = \u001b[39m\u001b[39m{\u001b[39;00mx\u001b[39m \u001b[39m\u001b[39m+\u001b[39m\u001b[39m \u001b[39my\u001b[39m}\u001b[39;00m\u001b[39m\"\u001b[39m)\n",
      "\u001b[0;31mValueError\u001b[0m: invalid literal for int() with base 10: 'cat'"
     ]
    }
   ],
   "source": [
    "x = int(input(\"x: \"))\n",
    "y = int(input(\"y: \"))\n",
    "print(f\"x = {x}, y = {y}, x + y = {x + y}\")\n",
    "print()"
   ]
  },
  {
   "attachments": {},
   "cell_type": "markdown",
   "metadata": {},
   "source": [
    "We see ValueError: \"cat\" is not decimal number"
   ]
  },
  {
   "attachments": {},
   "cell_type": "markdown",
   "metadata": {},
   "source": [
    "In Python, there is ability to work with Exceptions"
   ]
  },
  {
   "attachments": {},
   "cell_type": "markdown",
   "metadata": {},
   "source": [
    "## Exceptions"
   ]
  },
  {
   "attachments": {},
   "cell_type": "markdown",
   "metadata": {},
   "source": [
    "we can *try* to do something *except* something goes wrong"
   ]
  },
  {
   "cell_type": "code",
   "execution_count": 1,
   "metadata": {},
   "outputs": [
    {
     "name": "stdout",
     "output_type": "stream",
     "text": [
      "x = 1, y = 1, x + y = 2\n",
      "\n"
     ]
    }
   ],
   "source": [
    "try:\n",
    "    x = int(input(\"x: \"))\n",
    "except ValueError:\n",
    "    print('Value Error. Input is not integer')\n",
    "    exit()\n",
    "try:\n",
    "    y = int(input(\"y: \"))\n",
    "except ValueError:\n",
    "    print('Value Error. Input is not integer')\n",
    "    exit()\n",
    "print(f\"x = {x}, y = {y}, x + y = {x + y}\")\n",
    "print()"
   ]
  },
  {
   "attachments": {},
   "cell_type": "markdown",
   "metadata": {},
   "source": [
    "Calculator example (division)"
   ]
  },
  {
   "cell_type": "code",
   "execution_count": 2,
   "metadata": {},
   "outputs": [
    {
     "name": "stdout",
     "output_type": "stream",
     "text": [
      "x = 1, y = 10, z = 0.1\n"
     ]
    }
   ],
   "source": [
    "# int divided by int test:\n",
    "from cs50 import get_int\n",
    "\n",
    "x = get_int(\"x: \")\n",
    "y = get_int(\"y: \")\n",
    "\n",
    "z = x / y\n",
    "print(f\"x = {x}, y = {y}, z = {x / y}\")"
   ]
  },
  {
   "attachments": {},
   "cell_type": "markdown",
   "metadata": {},
   "source": [
    "we get 0.1,   \n",
    "in C before we got 0"
   ]
  },
  {
   "cell_type": "code",
   "execution_count": 3,
   "metadata": {},
   "outputs": [
    {
     "name": "stdout",
     "output_type": "stream",
     "text": [
      "x = 1, y = 10, z = 0.10000000000000000555111512312578270211815834045410\n"
     ]
    }
   ],
   "source": [
    "# imprecision test:\n",
    "# int divided by int test:\n",
    "from cs50 import get_int\n",
    "\n",
    "x = get_int(\"x: \")\n",
    "y = get_int(\"y: \")\n",
    "\n",
    "z = x / y\n",
    "print(f\"x = {x}, y = {y}, z = {z:.50f}\")"
   ]
  },
  {
   "attachments": {},
   "cell_type": "markdown",
   "metadata": {},
   "source": [
    "if we format precision of floating to 50 decimal places, we would see that floating point imprecision is also an issue in Python"
   ]
  },
  {
   "cell_type": "code",
   "execution_count": 4,
   "metadata": {},
   "outputs": [
    {
     "name": "stdout",
     "output_type": "stream",
     "text": [
      "equal 2\n"
     ]
    }
   ],
   "source": [
    "#points example:\n",
    "from cs50 import get_int\n",
    "\n",
    "points = get_int(\"How many points? \")\n",
    "\n",
    "if points < 2:\n",
    "    print(\"Less than 2\")\n",
    "elif points > 2:\n",
    "    print(\"greater than 2\")\n",
    "else:\n",
    "    print(\"equal 2\")"
   ]
  },
  {
   "cell_type": "code",
   "execution_count": 1,
   "metadata": {},
   "outputs": [
    {
     "name": "stdout",
     "output_type": "stream",
     "text": [
      "even\n"
     ]
    }
   ],
   "source": [
    "# parity (even or odd):\n",
    "from cs50 import get_int\n",
    "\n",
    "n = get_int(\"n: \")\n",
    "\n",
    "if n % 2 == 0:\n",
    "    print(\"even\")\n",
    "else:\n",
    "    print(\"odd\")"
   ]
  },
  {
   "cell_type": "code",
   "execution_count": 5,
   "metadata": {},
   "outputs": [
    {
     "name": "stdout",
     "output_type": "stream",
     "text": [
      "Agreed\n"
     ]
    }
   ],
   "source": [
    "# agreement program:\n",
    "from cs50 import get_string\n",
    "\n",
    "s = get_string(\"do you agree? \").lower() # lower input\n",
    "\n",
    "if s in [\"y\", \"yes\"]:\n",
    "    print(\"Agreed\")\n",
    "elif s in [\"n\", \"no\"]:\n",
    "    print(\"Not agreed\")\n",
    "else:\n",
    "    print(\"Wrong input\")"
   ]
  },
  {
   "attachments": {},
   "cell_type": "markdown",
   "metadata": {},
   "source": [
    "## Immutable variables"
   ]
  },
  {
   "attachments": {},
   "cell_type": "markdown",
   "metadata": {},
   "source": [
    "Unlike in C, strings in Python are technically not an arrays  \n",
    "In Python Strings are Objects of type String  \n",
    "Strings are Immutable variables, this means that we can not go to the specific element of the string and change it  \n",
    "but we can make copy of the string and change something there"
   ]
  },
  {
   "cell_type": "code",
   "execution_count": 7,
   "metadata": {},
   "outputs": [
    {
     "name": "stdout",
     "output_type": "stream",
     "text": [
      "meow\n",
      "meow\n",
      "meow\n"
     ]
    }
   ],
   "source": [
    "# meow program:\n",
    "for i in range(3):\n",
    "    print(\"meow\")"
   ]
  },
  {
   "cell_type": "code",
   "execution_count": 12,
   "metadata": {},
   "outputs": [
    {
     "name": "stdout",
     "output_type": "stream",
     "text": [
      "meow\n",
      "meow\n",
      "meow\n"
     ]
    }
   ],
   "source": [
    "# meow function:\n",
    "def main():\n",
    "    for i in range(3):\n",
    "        meow()\n",
    "\n",
    "def meow():\n",
    "    print(\"meow\")\n",
    "\n",
    "if __name__ == \"__main__\":\n",
    "    main()"
   ]
  },
  {
   "attachments": {},
   "cell_type": "markdown",
   "metadata": {},
   "source": [
    "In Python we need to call main function and this solves the problem of calling functions that are not defined and at the same time main function can easily be at the top of program file, so we can see where logically program starts"
   ]
  },
  {
   "attachments": {},
   "cell_type": "markdown",
   "metadata": {},
   "source": [
    "__name__ == \"__main__\" solves the potential problem with libraries"
   ]
  },
  {
   "cell_type": "code",
   "execution_count": 13,
   "metadata": {},
   "outputs": [
    {
     "name": "stdout",
     "output_type": "stream",
     "text": [
      "meow\n",
      "meow\n",
      "meow\n"
     ]
    }
   ],
   "source": [
    "# meow function:\n",
    "def main():\n",
    "    meow(3)\n",
    "\n",
    "def meow(n):\n",
    "    for i in range(n):\n",
    "        print(\"meow\")\n",
    "\n",
    "if __name__ == \"__main__\":\n",
    "    main()"
   ]
  },
  {
   "cell_type": "code",
   "execution_count": 15,
   "metadata": {},
   "outputs": [
    {
     "name": "stdout",
     "output_type": "stream",
     "text": [
      "#\n",
      "#\n",
      "#\n",
      "#\n",
      "#\n"
     ]
    }
   ],
   "source": [
    "# mario blocks:\n",
    "from cs50 import get_int\n",
    "\n",
    "n = get_int(\"Height: \")\n",
    "\n",
    "for i in range(n):\n",
    "    print(\"#\")"
   ]
  },
  {
   "cell_type": "code",
   "execution_count": 16,
   "metadata": {},
   "outputs": [
    {
     "name": "stdout",
     "output_type": "stream",
     "text": [
      "#\n",
      "#\n"
     ]
    }
   ],
   "source": [
    "# ask user for input till it is valid:\n",
    "from cs50 import get_int\n",
    "\n",
    "while True:\n",
    "    n = get_int(\"Height: \")\n",
    "    if n > 0:\n",
    "        break\n",
    "\n",
    "for i in range(n):\n",
    "    print(\"#\")"
   ]
  },
  {
   "attachments": {},
   "cell_type": "markdown",
   "metadata": {},
   "source": [
    "in Python, when we declare a variable, it exists and available from everywhere inside a function"
   ]
  },
  {
   "cell_type": "code",
   "execution_count": 18,
   "metadata": {},
   "outputs": [
    {
     "name": "stdout",
     "output_type": "stream",
     "text": [
      "#\n",
      "#\n",
      "#\n",
      "#\n"
     ]
    }
   ],
   "source": [
    "from cs50 import get_int\n",
    "\n",
    "def main():\n",
    "    height = get_height()\n",
    "    for i in range(height):\n",
    "        print(\"#\")\n",
    "\n",
    "def get_height():\n",
    "    while True:\n",
    "        n = get_int(\"Height: \")\n",
    "        if n > 0:\n",
    "            break\n",
    "    return n # we return variable which was initialized inside a loop\n",
    "\n",
    "main()"
   ]
  },
  {
   "cell_type": "code",
   "execution_count": 19,
   "metadata": {},
   "outputs": [
    {
     "name": "stdout",
     "output_type": "stream",
     "text": [
      "That is not an integer\n",
      "That is not an integer\n",
      "That is not an integer\n",
      "#\n",
      "#\n",
      "#\n"
     ]
    }
   ],
   "source": [
    "# add exception:\n",
    "def main():\n",
    "    height = get_height()\n",
    "    for i in range(height):\n",
    "        print(\"#\")\n",
    "\n",
    "def get_height():\n",
    "    while True:\n",
    "        # handle wrong input:\n",
    "        try:\n",
    "            n = int(input(\"Height: \"))\n",
    "            if n > 0:\n",
    "                break\n",
    "        except ValueError:\n",
    "            print(\"That is not an integer\")\n",
    "    return n\n",
    "\n",
    "main()"
   ]
  },
  {
   "attachments": {},
   "cell_type": "markdown",
   "metadata": {},
   "source": [
    "Python has 2 types of functions arguments:\n",
    "- positional (comma separated arguments)\n",
    "- and Named arguments"
   ]
  },
  {
   "cell_type": "code",
   "execution_count": 21,
   "metadata": {},
   "outputs": [
    {
     "name": "stdout",
     "output_type": "stream",
     "text": [
      "????\n"
     ]
    }
   ],
   "source": [
    "# line of hashes:\n",
    "for i in range(4):\n",
    "    print(\"?\", end=\"\")# named argument \"end\"\n",
    "print() # add new line"
   ]
  },
  {
   "cell_type": "code",
   "execution_count": 22,
   "metadata": {},
   "outputs": [
    {
     "name": "stdout",
     "output_type": "stream",
     "text": [
      "????\n"
     ]
    }
   ],
   "source": [
    "print(\"?\" * 4)"
   ]
  },
  {
   "cell_type": "code",
   "execution_count": 29,
   "metadata": {},
   "outputs": [
    {
     "name": "stdout",
     "output_type": "stream",
     "text": [
      "###\n",
      "###\n",
      "###\n"
     ]
    }
   ],
   "source": [
    "# grid of hashes:\n",
    "for i in range(3):\n",
    "    for j in range(3):\n",
    "        print(\"#\", end=\"\")\n",
    "    print()"
   ]
  },
  {
   "cell_type": "code",
   "execution_count": 30,
   "metadata": {},
   "outputs": [
    {
     "name": "stdout",
     "output_type": "stream",
     "text": [
      "###\n",
      "###\n",
      "###\n"
     ]
    }
   ],
   "source": [
    "for i in range(3):\n",
    "    print(\"#\" * 3)"
   ]
  },
  {
   "cell_type": "code",
   "execution_count": 32,
   "metadata": {},
   "outputs": [
    {
     "name": "stdout",
     "output_type": "stream",
     "text": [
      "average = 4.0\n"
     ]
    }
   ],
   "source": [
    "# scores:\n",
    "from cs50 import get_int\n",
    "\n",
    "scores = [] # in Python we can create empty lists\n",
    "for i in range(3):\n",
    "    score = get_int(\"Score: \")\n",
    "    scores.append(score)\n",
    "\n",
    "average = sum(scores) / len(scores)\n",
    "print(f\"average = {average}\")"
   ]
  },
  {
   "cell_type": "code",
   "execution_count": 33,
   "metadata": {},
   "outputs": [
    {
     "name": "stdout",
     "output_type": "stream",
     "text": [
      "average = 3.0\n"
     ]
    }
   ],
   "source": [
    "# scores:\n",
    "from cs50 import get_int\n",
    "\n",
    "scores = []\n",
    "for i in range(3):\n",
    "    score = get_int(\"Score: \")\n",
    "    scores += [score] # concatenate 2 lists together\n",
    "\n",
    "average = sum(scores) / len(scores)\n",
    "print(f\"average = {average}\")"
   ]
  },
  {
   "cell_type": "code",
   "execution_count": 35,
   "metadata": {},
   "outputs": [
    {
     "name": "stdout",
     "output_type": "stream",
     "text": [
      "Before: hello\n",
      "After:  HELLO\n"
     ]
    }
   ],
   "source": [
    "# uppercase all letters in string:\n",
    "from cs50 import get_string\n",
    "\n",
    "before = get_string(\"Before: \")\n",
    "print(f\"Before: {before}\")\n",
    "print(\"After:  \", end=\"\")\n",
    "for c in before:\n",
    "    print(c.upper(), end=\"\")\n",
    "print()"
   ]
  },
  {
   "attachments": {},
   "cell_type": "markdown",
   "metadata": {},
   "source": [
    "we uppercase all characters inside of a string character by character  \n",
    "but we can make the program shorter"
   ]
  },
  {
   "cell_type": "code",
   "execution_count": 37,
   "metadata": {},
   "outputs": [
    {
     "name": "stdout",
     "output_type": "stream",
     "text": [
      "Before: hello\n",
      "After:  HELLO\n"
     ]
    }
   ],
   "source": [
    "from cs50 import get_string\n",
    "\n",
    "before = get_string(\"Before: \")\n",
    "print(f\"Before: {before}\")\n",
    "print(f\"After:  {before.upper()}\")"
   ]
  },
  {
   "attachments": {},
   "cell_type": "markdown",
   "metadata": {},
   "source": [
    "### Command Line Arguments"
   ]
  },
  {
   "cell_type": "code",
   "execution_count": 1,
   "metadata": {},
   "outputs": [
    {
     "name": "stdout",
     "output_type": "stream",
     "text": [
      "hello, world\n"
     ]
    }
   ],
   "source": [
    "from sys import argv\n",
    "\n",
    "if len(argv) == 2: # if we provide 1 additional argument\n",
    "    print(f\"hello, {argv[1]}\")\n",
    "else:\n",
    "    print(\"hello, world\")"
   ]
  },
  {
   "cell_type": "code",
   "execution_count": 2,
   "metadata": {},
   "outputs": [
    {
     "name": "stdout",
     "output_type": "stream",
     "text": [
      "--ip=127.0.0.1\n",
      "--stdin=9003\n",
      "--control=9001\n",
      "--hb=9000\n",
      "--Session.signature_scheme=\"hmac-sha256\"\n",
      "--Session.key=b\"16cd94f4-8276-406d-b942-ce74eb63bbeb\"\n",
      "--shell=9002\n",
      "--transport=\"tcp\"\n",
      "--iopub=9004\n",
      "--f=/home/ubuntu/.local/share/jupyter/runtime/kernel-v2-372vKiOz3EYlfp1.json\n"
     ]
    }
   ],
   "source": [
    "from sys import argv\n",
    "\n",
    "for arg in argv[1:]: # slice of cli arguments, starting from the 2nd, since 1st is name of program\n",
    "    print(arg)"
   ]
  },
  {
   "cell_type": "code",
   "execution_count": 4,
   "metadata": {},
   "outputs": [
    {
     "name": "stdout",
     "output_type": "stream",
     "text": [
      "Missing command-line argument\n"
     ]
    },
    {
     "ename": "SystemExit",
     "evalue": "1",
     "output_type": "error",
     "traceback": [
      "An exception has occurred, use %tb to see the full traceback.\n",
      "\u001b[0;31mSystemExit\u001b[0m\u001b[0;31m:\u001b[0m 1\n"
     ]
    },
    {
     "name": "stderr",
     "output_type": "stream",
     "text": [
      "/home/ubuntu/.local/lib/python3.11/site-packages/IPython/core/interactiveshell.py:3450: UserWarning: To exit: use 'exit', 'quit', or Ctrl-D.\n",
      "  warn(\"To exit: use 'exit', 'quit', or Ctrl-D.\", stacklevel=1)\n"
     ]
    }
   ],
   "source": [
    "import sys\n",
    "\n",
    "if len(sys.argv) != 2:\n",
    "    print(\"Missing command-line argument\")\n",
    "    sys.exit(1)\n",
    "\n",
    "print(f\"hello, {sys.argv[1]}\")\n",
    "sys.exit(0)"
   ]
  },
  {
   "attachments": {},
   "cell_type": "markdown",
   "metadata": {},
   "source": [
    "#### Search Algorithms in Python"
   ]
  },
  {
   "cell_type": "code",
   "execution_count": 5,
   "metadata": {},
   "outputs": [
    {
     "name": "stdout",
     "output_type": "stream",
     "text": [
      "Found\n"
     ]
    },
    {
     "ename": "SystemExit",
     "evalue": "0",
     "output_type": "error",
     "traceback": [
      "An exception has occurred, use %tb to see the full traceback.\n",
      "\u001b[0;31mSystemExit\u001b[0m\u001b[0;31m:\u001b[0m 0\n"
     ]
    }
   ],
   "source": [
    "import sys\n",
    "\n",
    "numbers = [4, 6, 8, 2, 7, 5, 0]\n",
    "if 0 in numbers:\n",
    "    print(\"Found\")\n",
    "    sys.exit(0)\n",
    "\n",
    "print(\"Not found\")\n",
    "sys.exit(1)"
   ]
  },
  {
   "attachments": {},
   "cell_type": "markdown",
   "metadata": {},
   "source": [
    "#### Dictionary"
   ]
  },
  {
   "attachments": {},
   "cell_type": "markdown",
   "metadata": {},
   "source": [
    "dictionaries associate keys and values  \n",
    "it is very common paradigm - it is omnipresent idea in CS, because it is useful way of associating one thing with another"
   ]
  },
  {
   "cell_type": "code",
   "execution_count": 8,
   "metadata": {},
   "outputs": [],
   "source": [
    "# phonebook:\n",
    "people = {\n",
    "    \"Carter\": \"+1-617-495-1000\",\n",
    "    \"David\": \"+1-949-468-2750\"\n",
    "}"
   ]
  },
  {
   "cell_type": "code",
   "execution_count": 9,
   "metadata": {},
   "outputs": [
    {
     "data": {
      "text/plain": [
       "'+1-617-495-1000'"
      ]
     },
     "execution_count": 9,
     "metadata": {},
     "output_type": "execute_result"
    }
   ],
   "source": [
    "people[\"Carter\"]"
   ]
  },
  {
   "cell_type": "code",
   "execution_count": 11,
   "metadata": {},
   "outputs": [
    {
     "name": "stdout",
     "output_type": "stream",
     "text": [
      "Number: +1-617-495-1000\n"
     ]
    }
   ],
   "source": [
    "from cs50 import get_string\n",
    "name = get_string(\"Name: \")\n",
    "if name in people:\n",
    "    print(f\"Number: {people[name]}\")"
   ]
  },
  {
   "attachments": {},
   "cell_type": "markdown",
   "metadata": {},
   "source": [
    "we can store values in CSV (comma separated values) file: "
   ]
  },
  {
   "cell_type": "code",
   "execution_count": 12,
   "metadata": {},
   "outputs": [],
   "source": [
    "import csv\n",
    "\n",
    "file = open(\"phonebook.csv\", \"a\") # \"a\" - append (add to the bottom of the file)\n",
    "\n",
    "name = \"Carter\"\n",
    "number = \"+1-617-495-1000\"\n",
    "\n",
    "writer = csv.writer(file)\n",
    "writer.writerow([name, number])\n",
    "\n",
    "file.close()"
   ]
  },
  {
   "attachments": {},
   "cell_type": "markdown",
   "metadata": {},
   "source": [
    "if we use \"with\" statement for opening file, we would not have to then close it explicitly:"
   ]
  },
  {
   "cell_type": "code",
   "execution_count": 1,
   "metadata": {},
   "outputs": [],
   "source": [
    "import csv\n",
    "\n",
    "name = \"David\"\n",
    "number = \"+1-949-468-2750\"\n",
    "\n",
    "with open(\"phonebook.csv\", \"a\") as file:\n",
    "    writer = csv.writer(file)\n",
    "    writer.writerow([name, number])\n"
   ]
  },
  {
   "cell_type": "code",
   "execution_count": null,
   "metadata": {},
   "outputs": [],
   "source": []
  }
 ],
 "metadata": {
  "kernelspec": {
   "display_name": "Python 3",
   "language": "python",
   "name": "python3"
  },
  "language_info": {
   "codemirror_mode": {
    "name": "ipython",
    "version": 3
   },
   "file_extension": ".py",
   "mimetype": "text/x-python",
   "name": "python",
   "nbconvert_exporter": "python",
   "pygments_lexer": "ipython3",
   "version": "3.11.1"
  },
  "orig_nbformat": 4,
  "vscode": {
   "interpreter": {
    "hash": "949777d72b0d2535278d3dc13498b2535136f6dfe0678499012e853ee9abcab1"
   }
  }
 },
 "nbformat": 4,
 "nbformat_minor": 2
}
