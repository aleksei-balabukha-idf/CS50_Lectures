{
 "cells": [
  {
   "attachments": {},
   "cell_type": "markdown",
   "metadata": {},
   "source": [
    "# Internet"
   ]
  },
  {
   "attachments": {},
   "cell_type": "markdown",
   "metadata": {},
   "source": [
    "hardware that is interconnected via cables, internet service providers, wireless connections"
   ]
  },
  {
   "attachments": {},
   "cell_type": "markdown",
   "metadata": {},
   "source": [
    "- Router - Server that routes the data from one point to another"
   ]
  },
  {
   "attachments": {},
   "cell_type": "markdown",
   "metadata": {},
   "source": [
    "How our devices get data from internet?  \n",
    "Our devices (laptop or phone) knows what is the local router - what is the address of that router"
   ]
  },
  {
   "attachments": {},
   "cell_type": "markdown",
   "metadata": {},
   "source": [
    "there are algorithms that helps router decide where to sent traffic (right or up etc.) (to what next router)  \n",
    "as input they have the message for example "
   ]
  },
  {
   "attachments": {},
   "cell_type": "markdown",
   "metadata": {},
   "source": [
    "All routers, Mac or PC and phones these days speak by using TCP/IP"
   ]
  },
  {
   "attachments": {},
   "cell_type": "markdown",
   "metadata": {},
   "source": [
    "- TCP/IP - 2 protocols (conventions) that computer use to intercommunicate these days"
   ]
  },
  {
   "attachments": {},
   "cell_type": "markdown",
   "metadata": {},
   "source": [
    "if we want to send email, we put it in some sort of virtual envelope outside of which we put Receiver's Address and Source Address (IP address)"
   ]
  },
  {
   "attachments": {},
   "cell_type": "markdown",
   "metadata": {},
   "source": [
    "- version 4 of IP address: #.#.#.# (# - number from 0 to 256 (8 bits or 1 byte))  \n",
    "so IP stores 32 bits or 4 bytes - therefore around 4 billion unique addresses"
   ]
  },
  {
   "attachments": {},
   "cell_type": "markdown",
   "metadata": {},
   "source": [
    "however, different people have multiple devices"
   ]
  },
  {
   "attachments": {},
   "cell_type": "markdown",
   "metadata": {},
   "source": [
    "therefore now more commonly used version is 128 bits, which give us more than enough addresses"
   ]
  },
  {
   "attachments": {},
   "cell_type": "markdown",
   "metadata": {},
   "source": [
    "- TCP - helps to understand what the message is (skype call ot web-page or something else)\n",
    "    - specify type of service whose data is in this envelope   "
   ]
  },
  {
   "attachments": {},
   "cell_type": "markdown",
   "metadata": {},
   "source": [
    "- 80 - HTTP (web page/request)\n",
    "- 443 - HTTPS (web page or request which is encrypted)"
   ]
  },
  {
   "attachments": {},
   "cell_type": "markdown",
   "metadata": {},
   "source": [
    "# Fragmentation"
   ]
  },
  {
   "attachments": {},
   "cell_type": "markdown",
   "metadata": {},
   "source": [
    "if we send for example big picture, in terms of fairness internet wants to provide a little bit of traffic to one person then to another,"
   ]
  },
  {
   "attachments": {},
   "cell_type": "markdown",
   "metadata": {},
   "source": [
    "so our big picture can be cut into several parts and put not into single envelop but into several envelops instead"
   ]
  },
  {
   "attachments": {},
   "cell_type": "markdown",
   "metadata": {},
   "source": [
    "So in TCP we want to put some kind of Order numbers,  \n",
    "other advantage is guarantee of sending, since if we receive 2 out of 4 we can ask to resend item"
   ]
  },
  {
   "attachments": {},
   "cell_type": "markdown",
   "metadata": {},
   "source": [
    "TCP ensures that all pars are received ot none"
   ]
  },
  {
   "attachments": {},
   "cell_type": "markdown",
   "metadata": {},
   "source": [
    "- there are other protocols that do not guarantee delivery - for example UDP (good for streaming or call)"
   ]
  },
  {
   "attachments": {},
   "cell_type": "markdown",
   "metadata": {},
   "source": [
    "# DNS"
   ]
  },
  {
   "attachments": {},
   "cell_type": "markdown",
   "metadata": {},
   "source": [
    "when we send email or visit web page, we do not know IP address, but type in DNS - *domain name system*  \n",
    "pretty much every network on Internet has DNS server - connected to network which has big table:  \n",
    "- domain name \n",
    "- IP addresses"
   ]
  },
  {
   "attachments": {},
   "cell_type": "markdown",
   "metadata": {},
   "source": [
    "# HTTP"
   ]
  },
  {
   "attachments": {},
   "cell_type": "markdown",
   "metadata": {},
   "source": [
    "now when we have all these envelops that are getting from point A to point B, using TCP IP, we can put something specific inside of them:"
   ]
  },
  {
   "attachments": {},
   "cell_type": "markdown",
   "metadata": {},
   "source": [
    "- http - hyper text transfer protocol"
   ]
  },
  {
   "attachments": {},
   "cell_type": "markdown",
   "metadata": {},
   "source": [
    "it a protocol that standardizes how web browser and web server communicate"
   ]
  },
  {
   "attachments": {},
   "cell_type": "markdown",
   "metadata": {},
   "source": [
    "Internet are basically cables and routes that put packets from left to right etc"
   ]
  },
  {
   "attachments": {},
   "cell_type": "markdown",
   "metadata": {},
   "source": [
    "- Web - is HTTP - one application built on top of internet"
   ]
  },
  {
   "attachments": {},
   "cell_type": "markdown",
   "metadata": {},
   "source": [
    "https://www.example.com/"
   ]
  },
  {
   "attachments": {},
   "cell_type": "markdown",
   "metadata": {},
   "source": [
    ".../path "
   ]
  },
  {
   "attachments": {},
   "cell_type": "markdown",
   "metadata": {},
   "source": [
    "/folder/file.html"
   ]
  },
  {
   "attachments": {},
   "cell_type": "markdown",
   "metadata": {},
   "source": [
    "browsers are trying to hide all that unnecessary information from client"
   ]
  },
  {
   "attachments": {},
   "cell_type": "markdown",
   "metadata": {},
   "source": [
    "- example. - domain - one of the servers (in facebook for example there is a technology) that specifies to what server we will go"
   ]
  },
  {
   "attachments": {},
   "cell_type": "markdown",
   "metadata": {},
   "source": [
    "- www. - host name"
   ]
  },
  {
   "attachments": {},
   "cell_type": "markdown",
   "metadata": {},
   "source": [
    "- .com - top level domain - .com - commercial"
   ]
  },
  {
   "attachments": {},
   "cell_type": "markdown",
   "metadata": {},
   "source": [
    "- .edu - just for credit educational organizations"
   ]
  },
  {
   "attachments": {},
   "cell_type": "markdown",
   "metadata": {},
   "source": [
    "- https: - protocol"
   ]
  },
  {
   "attachments": {},
   "cell_type": "markdown",
   "metadata": {},
   "source": [
    "# Get / Post requests"
   ]
  },
  {
   "attachments": {},
   "cell_type": "markdown",
   "metadata": {},
   "source": [
    "what can be in such Envelops in Web turms?  \n",
    "it is usually 2 verbs: Get or Post"
   ]
  },
  {
   "attachments": {},
   "cell_type": "markdown",
   "metadata": {},
   "source": [
    "such verb describes how to send information from client to the server"
   ]
  },
  {
   "attachments": {},
   "cell_type": "markdown",
   "metadata": {},
   "source": [
    "- GET - means put any user request in the URL"
   ]
  },
  {
   "attachments": {},
   "cell_type": "markdown",
   "metadata": {},
   "source": [
    "- POST  - hide users request (some important information like passwords etc) not to show in browser history etc, but somewhere deeper in this envelope"
   ]
  },
  {
   "attachments": {},
   "cell_type": "markdown",
   "metadata": {},
   "source": [
    "but for now, we will focus on GET requests"
   ]
  },
  {
   "attachments": {},
   "cell_type": "markdown",
   "metadata": {},
   "source": [
    "client sends request to Server  \n",
    "Server replies with Response"
   ]
  },
  {
   "attachments": {},
   "cell_type": "markdown",
   "metadata": {},
   "source": [
    "GET / HTTP/1.1  \n",
    "Host: www.example.com  \n",
    "... "
   ]
  },
  {
   "attachments": {},
   "cell_type": "markdown",
   "metadata": {},
   "source": [
    "when we read some web page, our computer automatically generate message, which looks something like that"
   ]
  },
  {
   "attachments": {},
   "cell_type": "markdown",
   "metadata": {},
   "source": [
    "hopefully, the response from the server looks something like this:\n"
   ]
  },
  {
   "attachments": {},
   "cell_type": "markdown",
   "metadata": {},
   "source": [
    "HTTP/1.1 200 OK  \n",
    "Content-Type: text/html  \n",
    "..."
   ]
  },
  {
   "attachments": {},
   "cell_type": "markdown",
   "metadata": {},
   "source": [
    "the same version of HTTP   \n",
    "status code (200)  \n",
    "literally OK - which means exactly request was satisfied    \n",
    "type of content that is coming back\n",
    " "
   ]
  },
  {
   "attachments": {},
   "cell_type": "markdown",
   "metadata": {},
   "source": [
    "if we use take a look at the first request and response from for example http:harvard.com we can see that status of this request is not 200 it is not OK,  \n",
    "the reason is that web page was moved to https:www.harvard.com for some purpose,  \n",
    "when browser receives that code 301 - it knows that it need to check Location field in the response and transfer client to that new address"
   ]
  },
  {
   "attachments": {},
   "cell_type": "markdown",
   "metadata": {},
   "source": [
    "# curl command"
   ]
  },
  {
   "attachments": {},
   "cell_type": "markdown",
   "metadata": {},
   "source": [
    "- curl stands for Client URL - it is a command line tool that enables data exchange between a device and a server though a terminal"
   ]
  },
  {
   "attachments": {},
   "cell_type": "markdown",
   "metadata": {},
   "source": [
    "*curl -I -X GET http://harvard.edu/*"
   ]
  },
  {
   "attachments": {},
   "cell_type": "markdown",
   "metadata": {},
   "source": [
    "(simulate get request)"
   ]
  },
  {
   "attachments": {},
   "cell_type": "markdown",
   "metadata": {},
   "source": [
    "by using curl command we can see the exact response from the server:  HTTP/1.1 301 Moved Permanently"
   ]
  },
  {
   "cell_type": "markdown",
   "metadata": {},
   "source": [
    "if we change the address in curl request to the one in the response location:"
   ]
  },
  {
   "cell_type": "markdown",
   "metadata": {},
   "source": [
    "*curl -I -X GET https://www.harvard.edu/*"
   ]
  },
  {
   "attachments": {},
   "cell_type": "markdown",
   "metadata": {},
   "source": [
    "response: HTTP/2 200"
   ]
  },
  {
   "attachments": {},
   "cell_type": "markdown",
   "metadata": {},
   "source": [
    "now if we try to make a request for something completely random:  \n",
    "*curl -I -X https:harvard.edu/thisfiledoesnotexist*"
   ]
  },
  {
   "attachments": {},
   "cell_type": "markdown",
   "metadata": {},
   "source": [
    "we would see vary familiar 404 error:  \n",
    "HTTP/2 404"
   ]
  },
  {
   "attachments": {},
   "cell_type": "markdown",
   "metadata": {},
   "source": [
    "# HTML"
   ]
  },
  {
   "attachments": {},
   "cell_type": "markdown",
   "metadata": {},
   "source": [
    "HTML is not about logic but about structure and Aesthetics (skeleton) of web page"
   ]
  },
  {
   "cell_type": "code",
   "execution_count": null,
   "metadata": {
    "vscode": {
     "languageId": "plaintext"
    }
   },
   "outputs": [],
   "source": [
    "<!DOCTYPE html>\n",
    "\n",
    "<html lang=\"en\">\n",
    "    <head>\n",
    "        <title>hello, title</title>\n",
    "    </head>\n",
    "    <body>\n",
    "        hello, body\n",
    "    </body>\n",
    "</html>"
   ]
  },
  {
   "attachments": {},
   "cell_type": "markdown",
   "metadata": {},
   "source": [
    "at this moment we have the HTML file, which specifies what is going to be located on the web page we create"
   ]
  },
  {
   "attachments": {},
   "cell_type": "markdown",
   "metadata": {},
   "source": [
    "In this situation, when we are using cloud based machine to create a new web page and we want this new web page to also live in Internet  \n",
    "Any website that we might use in a browser by default is using probably TCP port number 80 (HTTP) or 443 (HTTPS)"
   ]
  },
  {
   "attachments": {},
   "cell_type": "markdown",
   "metadata": {},
   "source": [
    "so we are as programmers trying to create our own web site on the existing web site  \n",
    "but it is ok, because using TCP we can pick port number to use"
   ]
  },
  {
   "attachments": {},
   "cell_type": "markdown",
   "metadata": {},
   "source": [
    "*http-server* - runs server"
   ]
  },
  {
   "attachments": {},
   "cell_type": "markdown",
   "metadata": {},
   "source": [
    "- HTML:\n",
    "- tags and\n",
    "- attributes"
   ]
  },
  {
   "cell_type": "code",
   "execution_count": null,
   "metadata": {
    "vscode": {
     "languageId": "plaintext"
    }
   },
   "outputs": [],
   "source": [
    "<!DOCTYPE html>"
   ]
  },
  {
   "attachments": {},
   "cell_type": "markdown",
   "metadata": {},
   "source": [
    "is the only one row starting with ! exclamation point  \n",
    "this is document type declaration  \n",
    "in other words - just statement that this is HTML file of version 5 (the most modern one)"
   ]
  },
  {
   "cell_type": "code",
   "execution_count": null,
   "metadata": {
    "vscode": {
     "languageId": "plaintext"
    }
   },
   "outputs": [],
   "source": [
    "<html lang=\"en\">\n",
    "...\n",
    "</html>"
   ]
  },
  {
   "attachments": {},
   "cell_type": "markdown",
   "metadata": {},
   "source": [
    "this is Open Tag or Start Tag"
   ]
  },
  {
   "attachments": {},
   "cell_type": "markdown",
   "metadata": {},
   "source": [
    "there is attribute inside of this tag: lang=\"en\""
   ]
  },
  {
   "attachments": {},
   "cell_type": "markdown",
   "metadata": {},
   "source": [
    "html tag has 2 children:\n",
    "- head tag\n",
    "- body tag (99.9% of user experience)"
   ]
  },
  {
   "attachments": {},
   "cell_type": "markdown",
   "metadata": {},
   "source": [
    "![](./pic/1.png)"
   ]
  },
  {
   "attachments": {},
   "cell_type": "markdown",
   "metadata": {},
   "source": [
    "If we make mistakes in HTML code, they would display differently in different browsers, so we need to use some Validating tool:"
   ]
  },
  {
   "attachments": {},
   "cell_type": "markdown",
   "metadata": {},
   "source": [
    "*validator.w3.org*"
   ]
  },
  {
   "attachments": {},
   "cell_type": "markdown",
   "metadata": {},
   "source": [
    "## iframe  \n",
    "way to embed someone else web page into your web page if they allow it"
   ]
  },
  {
   "attachments": {},
   "cell_type": "markdown",
   "metadata": {},
   "source": [
    "# Interactivity"
   ]
  },
  {
   "attachments": {},
   "cell_type": "markdown",
   "metadata": {},
   "source": [
    "https://www.example.com/path?key=value"
   ]
  },
  {
   "attachments": {},
   "cell_type": "markdown",
   "metadata": {},
   "source": [
    "when we for example search something in Google, we would see that our search text is added to the end of URL of the google page"
   ]
  },
  {
   "attachments": {},
   "cell_type": "markdown",
   "metadata": {},
   "source": [
    "https://www.google.com/search?q=cats"
   ]
  },
  {
   "attachments": {},
   "cell_type": "markdown",
   "metadata": {},
   "source": [
    "this is one example of GET request:  \n",
    "GET /search?q=cats HTTP/1.1  \n",
    "Host: www.google.com  \n",
    "..."
   ]
  },
  {
   "attachments": {},
   "cell_type": "markdown",
   "metadata": {},
   "source": [
    "# CSS  "
   ]
  },
  {
   "attachments": {},
   "cell_type": "markdown",
   "metadata": {},
   "source": [
    "we need CSS to make things look prettier"
   ]
  },
  {
   "attachments": {},
   "cell_type": "markdown",
   "metadata": {},
   "source": [
    "- CSS - Cascading Style Sheets"
   ]
  },
  {
   "attachments": {},
   "cell_type": "markdown",
   "metadata": {},
   "source": [
    "### Inheritance  \n",
    "In CSS children elements will have the same style by default as their parent elements:"
   ]
  },
  {
   "cell_type": "code",
   "execution_count": null,
   "metadata": {
    "vscode": {
     "languageId": "plaintext"
    }
   },
   "outputs": [],
   "source": [
    "<!DOCTYPE html>\n",
    "\n",
    "<html lang=\"en\">\n",
    "    <head>\n",
    "        <title>home</title>\n",
    "    </head>\n",
    "    <body style=\"text-align: center;\">\n",
    "        <header style=\"font-size: large;\">\n",
    "            John Harvard\n",
    "        </header>\n",
    "        <main style=\"font-size: medium;\">\n",
    "            Welcome to my home page!\n",
    "        </main>\n",
    "        <footer style=\"font-size: small;\">\n",
    "            Copyright &#169; John Harvard\n",
    "        </footer>\n",
    "    </body>\n",
    "</html>"
   ]
  },
  {
   "attachments": {},
   "cell_type": "markdown",
   "metadata": {},
   "source": [
    "generally, it is not good practice to include css code inside of HTML code, since usually, different teams work of that different tasks so we can include CSS code into packages"
   ]
  },
  {
   "attachments": {},
   "cell_type": "markdown",
   "metadata": {},
   "source": [
    "we can put CSS into Style Tag in top of HTML code"
   ]
  },
  {
   "cell_type": "code",
   "execution_count": null,
   "metadata": {
    "vscode": {
     "languageId": "plaintext"
    }
   },
   "outputs": [],
   "source": [
    "        <style>\n",
    "\n",
    "            body\n",
    "            {\n",
    "                text-align: center\n",
    "            }\n",
    "\n",
    "            header\n",
    "            {\n",
    "                font-size: large;\n",
    "            }\n",
    "\n",
    "            main\n",
    "            {\n",
    "                font-size: medium;\n",
    "            }\n",
    "\n",
    "            footer\n",
    "            {\n",
    "                font-size: small;\n",
    "            }\n",
    "\n",
    "        </style>"
   ]
  },
  {
   "attachments": {},
   "cell_type": "markdown",
   "metadata": {},
   "source": [
    "what we do is we add different styles to the different parts of HTML file is we use CSS properties"
   ]
  },
  {
   "attachments": {},
   "cell_type": "markdown",
   "metadata": {},
   "source": [
    "for that Selectors are used:\n",
    "- type selectors\n",
    "- class selectors\n",
    "- iD selectors\n",
    "- attribute selector"
   ]
  },
  {
   "attachments": {},
   "cell_type": "markdown",
   "metadata": {},
   "source": [
    "type selectors - type is name of a tag in html file here"
   ]
  },
  {
   "attachments": {},
   "cell_type": "markdown",
   "metadata": {},
   "source": [
    "so, there are other types to adjust style configuration in our page"
   ]
  },
  {
   "attachments": {},
   "cell_type": "markdown",
   "metadata": {},
   "source": [
    "- class selectors  \n",
    "what we can is to create our own class:   \n",
    "instead of telling body {..center} we can create a new adjective - .centered"
   ]
  },
  {
   "attachments": {},
   "cell_type": "markdown",
   "metadata": {},
   "source": [
    "in the same way we create classes for sizes: large, medium and small:  \n"
   ]
  },
  {
   "cell_type": "code",
   "execution_count": null,
   "metadata": {
    "vscode": {
     "languageId": "plaintext"
    }
   },
   "outputs": [],
   "source": [
    "            .centered\n",
    "            {\n",
    "                text-align: center\n",
    "            }\n",
    "\n",
    "            .large\n",
    "            {\n",
    "                font-size: large;\n",
    "            }\n",
    "\n",
    "            .medium\n",
    "            {\n",
    "                font-size: medium;\n",
    "            }\n",
    "\n",
    "            .small\n",
    "            {\n",
    "                font-size: small;\n",
    "            }"
   ]
  },
  {
   "attachments": {},
   "cell_type": "markdown",
   "metadata": {},
   "source": [
    "it is inventing new words, which we can then use potentially in other web pages"
   ]
  },
  {
   "attachments": {},
   "cell_type": "markdown",
   "metadata": {},
   "source": [
    "and now if we want for example to center the whole body:"
   ]
  },
  {
   "cell_type": "code",
   "execution_count": null,
   "metadata": {
    "vscode": {
     "languageId": "plaintext"
    }
   },
   "outputs": [],
   "source": [
    "<body class=\"centered\">"
   ]
  },
  {
   "attachments": {},
   "cell_type": "markdown",
   "metadata": {},
   "source": [
    "and we can put these style settings into the separate file: home.css"
   ]
  },
  {
   "attachments": {},
   "cell_type": "markdown",
   "metadata": {},
   "source": [
    "and now we have the better design, since we can now reuse styles by adding only link to the css file for different web pages"
   ]
  },
  {
   "attachments": {},
   "cell_type": "markdown",
   "metadata": {},
   "source": [
    "also, we can create our own CSS libraries in that way"
   ]
  },
  {
   "attachments": {},
   "cell_type": "markdown",
   "metadata": {},
   "source": [
    "## ID selector"
   ]
  },
  {
   "attachments": {},
   "cell_type": "markdown",
   "metadata": {},
   "source": [
    "we can give IDs to different tags (whether unique or not)"
   ]
  },
  {
   "cell_type": "code",
   "execution_count": null,
   "metadata": {
    "vscode": {
     "languageId": "plaintext"
    }
   },
   "outputs": [],
   "source": [
    "<p> id=\"first\" </p>"
   ]
  },
  {
   "attachments": {},
   "cell_type": "markdown",
   "metadata": {},
   "source": [
    "and in head of page in style tag, we can add styles for the specific IDs on web page:"
   ]
  },
  {
   "cell_type": "code",
   "execution_count": null,
   "metadata": {
    "vscode": {
     "languageId": "plaintext"
    }
   },
   "outputs": [],
   "source": [
    "<head>\n",
    "    <style>\n",
    "        #first ---- id of Tag\n",
    "        {\n",
    "            font-size: larger;\n",
    "        }\n",
    "</head>"
   ]
  },
  {
   "attachments": {},
   "cell_type": "markdown",
   "metadata": {},
   "source": [
    "## selector by child"
   ]
  },
  {
   "attachments": {},
   "cell_type": "markdown",
   "metadata": {},
   "source": [
    "we can select only the paragraph tag that is the \"first child\":"
   ]
  },
  {
   "cell_type": "code",
   "execution_count": null,
   "metadata": {
    "vscode": {
     "languageId": "plaintext"
    }
   },
   "outputs": [],
   "source": [
    "p: first-child\n",
    "{\n",
    "    font-size: larger;\n",
    "}"
   ]
  },
  {
   "attachments": {},
   "cell_type": "markdown",
   "metadata": {},
   "source": [
    "## Attribute Selector"
   ]
  },
  {
   "attachments": {},
   "cell_type": "markdown",
   "metadata": {},
   "source": [
    "We can select tags based on their attributes"
   ]
  },
  {
   "cell_type": "code",
   "execution_count": null,
   "metadata": {
    "vscode": {
     "languageId": "plaintext"
    }
   },
   "outputs": [],
   "source": [
    "a[href=\"https://www.harvard.edu/\"]\n",
    "{\n",
    "    color: #ff0000;\n",
    "}"
   ]
  },
  {
   "attachments": {},
   "cell_type": "markdown",
   "metadata": {},
   "source": [
    "it is saying go and find Anchor tag whose href value is the specific url  "
   ]
  },
  {
   "attachments": {},
   "cell_type": "markdown",
   "metadata": {},
   "source": [
    "however, it might be too specific, so we can use just part of URL:"
   ]
  },
  {
   "cell_type": "code",
   "execution_count": null,
   "metadata": {
    "vscode": {
     "languageId": "plaintext"
    }
   },
   "outputs": [],
   "source": [
    "a[href*=\"harvard.edu\"]\n",
    "{\n",
    "    color: #ff0000\n",
    "}"
   ]
  },
  {
   "attachments": {},
   "cell_type": "markdown",
   "metadata": {},
   "source": [
    "# Frameworks"
   ]
  },
  {
   "attachments": {},
   "cell_type": "markdown",
   "metadata": {},
   "source": [
    "companies start from using some frameworks - 3rd party library  \n",
    "one of the most popular one - **BootStrap**  \n",
    "we do not need to reinvent the wheel to do some basics  \n",
    "with a few lines of code we can do some cool things"
   ]
  },
  {
   "attachments": {},
   "cell_type": "markdown",
   "metadata": {},
   "source": [
    "if we add Link tag for bootstrap CSS we would see that no longer default browser styles are used but Bootstrap style, which will lead to similarity of the project appearance in different browsers"
   ]
  },
  {
   "attachments": {},
   "cell_type": "markdown",
   "metadata": {},
   "source": [
    "then, we can simply add bootstraps table class to make it look as the specific type of table in framework"
   ]
  },
  {
   "attachments": {},
   "cell_type": "markdown",
   "metadata": {},
   "source": [
    "# JavaScript"
   ]
  },
  {
   "attachments": {},
   "cell_type": "markdown",
   "metadata": {},
   "source": [
    "When we before wrote a code in C and Python and then run it. We run it on a server (on our machine or in cloud)  \n"
   ]
  },
  {
   "attachments": {},
   "cell_type": "markdown",
   "metadata": {},
   "source": [
    "The difference with JavaScript is even though we write it in our machine or in cloud, recall that when a browser gets the page containing this code it's going to get a copy of the HTML, CSS and JavaScript (JS)  \n",
    "So JS is all going to be executed in a browser on user's Device"
   ]
  },
  {
   "attachments": {},
   "cell_type": "markdown",
   "metadata": {},
   "source": [
    "JS can be used on a Server, using an environment (**NodeJS**)"
   ]
  },
  {
   "attachments": {},
   "cell_type": "markdown",
   "metadata": {},
   "source": [
    "but now we will use it Client Side"
   ]
  },
  {
   "cell_type": "code",
   "execution_count": null,
   "metadata": {
    "vscode": {
     "languageId": "plaintext"
    }
   },
   "outputs": [],
   "source": [
    "# creating a variable:\n",
    "let counter = 0;\n",
    "\n",
    "# increment by 1:\n",
    "counter = counter + 1;\n",
    "counter += 1;\n",
    "counter++;"
   ]
  },
  {
   "cell_type": "code",
   "execution_count": null,
   "metadata": {
    "vscode": {
     "languageId": "plaintext"
    }
   },
   "outputs": [],
   "source": [
    "# comparison:\n",
    "if (x < y)\n",
    "{\n",
    "\n",
    "}\n",
    "else if (x > y)\n",
    "{\n",
    "\n",
    "}\n",
    "else\n",
    "{\n",
    "    \n",
    "}"
   ]
  },
  {
   "cell_type": "code",
   "execution_count": null,
   "metadata": {
    "vscode": {
     "languageId": "plaintext"
    }
   },
   "outputs": [],
   "source": [
    "# forever run code:\n",
    "while (true)\n",
    "{\n",
    "    \n",
    "}"
   ]
  },
  {
   "cell_type": "code",
   "execution_count": null,
   "metadata": {
    "vscode": {
     "languageId": "plaintext"
    }
   },
   "outputs": [],
   "source": [
    "# for loop:\n",
    "for (let i = 0; i < 3; i++)\n",
    "{\n",
    "    \n",
    "}"
   ]
  },
  {
   "attachments": {},
   "cell_type": "markdown",
   "metadata": {},
   "source": [
    "the power of JavaScript that we can change HTML Tree structure in memory"
   ]
  },
  {
   "attachments": {},
   "cell_type": "markdown",
   "metadata": {},
   "source": [
    "if we think about some modern web site, it is probably very interactive and dynamic:  \n",
    "for example if we are sitting in front of Gmail with the browser tab open and someone sends us an email: all of a sudden another row appears  \n",
    "it could be an HTML table or bunch of div tags, the point is that we do not need to reload the page to see all new emails, since it automatically appears every few seconds"
   ]
  },
  {
   "attachments": {},
   "cell_type": "markdown",
   "metadata": {},
   "source": [
    "how is that working?  \n",
    "when we visit Gmail.com, we are downloading not just HTML and CSS but also JS that is designed to keep talking to Gmail Server to add new elements to the existing **DOM (Document Object Model)** "
   ]
  },
  {
   "attachments": {},
   "cell_type": "markdown",
   "metadata": {},
   "source": [
    "- DOM - fancy term for tree in memory, that represents HTML"
   ]
  },
  {
   "attachments": {},
   "cell_type": "markdown",
   "metadata": {},
   "source": [
    "we can put JS code in the head, body of the page or in the separate file"
   ]
  },
  {
   "attachments": {},
   "cell_type": "markdown",
   "metadata": {},
   "source": [
    "let us upgrade Hello.html page:"
   ]
  },
  {
   "cell_type": "code",
   "execution_count": null,
   "metadata": {
    "vscode": {
     "languageId": "plaintext"
    }
   },
   "outputs": [],
   "source": [
    "<!DOCTYPE html>\n",
    "\n",
    "<html lang=\"en\">\n",
    "    <head>\n",
    "        <title>hello</title>\n",
    "    </head>\n",
    "    <body>\n",
    "        <form>\n",
    "            <input autocomplete=\"off\" autofocus id=\"name\" placeholder=\"Name\" type=\"test\">\n",
    "            <input type=\"submit\">\n",
    "        </form>\n",
    "    </body>\n",
    "</html>"
   ]
  },
  {
   "attachments": {},
   "cell_type": "markdown",
   "metadata": {},
   "source": [
    "here we have form and submit button and we can add JS code to say hello to User, using his/her name"
   ]
  },
  {
   "attachments": {},
   "cell_type": "markdown",
   "metadata": {},
   "source": [
    "in the form tag we can specify what we want to do when the form is submitted:"
   ]
  },
  {
   "cell_type": "code",
   "execution_count": null,
   "metadata": {
    "vscode": {
     "languageId": "plaintext"
    }
   },
   "outputs": [],
   "source": [
    "<form onsubmit=\"greet(); return false;\">"
   ]
  },
  {
   "attachments": {},
   "cell_type": "markdown",
   "metadata": {},
   "source": [
    "when the form is submitted, we will call \"great\" function, which not yet exist but we will create it"
   ]
  },
  {
   "attachments": {},
   "cell_type": "markdown",
   "metadata": {},
   "source": [
    "also, usually in web pages when some form is submitted, the value is sent to some server  \n",
    "in our example we do not want to do that, so we \"return false\" this is JS way to tell browser, that even though user tries to submit the form return false, do not let them actually to submit the form, but do something else"
   ]
  },
  {
   "cell_type": "code",
   "execution_count": null,
   "metadata": {
    "vscode": {
     "languageId": "plaintext"
    }
   },
   "outputs": [],
   "source": [
    "            function greet()\n",
    "            {\n",
    "                let name = document.querySelector('#name').value;\n",
    "                alert('hellom there');\n",
    "            }"
   ]
  },
  {
   "attachments": {},
   "cell_type": "markdown",
   "metadata": {},
   "source": [
    "in the head of a file, we can create script that we can execute later in page,  \n",
    "to get input from the form on wep page, we first need to *Select* it, just like in CSS, where we have different types of selectors,  \n",
    "here, in code above, call document object (DOM), which contains all object on the page, and search on it for the element with #name id  \n",
    "and from that element, we then take it's value"
   ]
  },
  {
   "cell_type": "code",
   "execution_count": null,
   "metadata": {
    "vscode": {
     "languageId": "plaintext"
    }
   },
   "outputs": [],
   "source": [
    "        <form onsubmit=\"greet(); return false;\">"
   ]
  },
  {
   "attachments": {},
   "cell_type": "markdown",
   "metadata": {},
   "source": [
    "it is a bad practice to combine languages, so we will not late put JS code into form tag"
   ]
  },
  {
   "attachments": {},
   "cell_type": "markdown",
   "metadata": {},
   "source": [
    "### Events"
   ]
  },
  {
   "attachments": {},
   "cell_type": "markdown",
   "metadata": {},
   "source": [
    "a lot of applications are operated by events, which we can listen to inside of code in for example Web programming"
   ]
  },
  {
   "cell_type": "code",
   "execution_count": null,
   "metadata": {
    "vscode": {
     "languageId": "plaintext"
    }
   },
   "outputs": [],
   "source": [
    "document.querySelector('form').addEventListener('submit', greet);"
   ]
  },
  {
   "attachments": {},
   "cell_type": "markdown",
   "metadata": {},
   "source": [
    "in that way we can call JS function in case of event"
   ]
  },
  {
   "cell_type": "markdown",
   "metadata": {},
   "source": []
  }
 ],
 "metadata": {
  "language_info": {
   "name": "python"
  },
  "orig_nbformat": 4
 },
 "nbformat": 4,
 "nbformat_minor": 2
}
