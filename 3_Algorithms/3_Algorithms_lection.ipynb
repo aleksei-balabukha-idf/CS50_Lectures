{
 "cells": [
  {
   "attachments": {},
   "cell_type": "markdown",
   "metadata": {},
   "source": [
    "# Algorithms"
   ]
  },
  {
   "attachments": {},
   "cell_type": "markdown",
   "metadata": {},
   "source": [
    "![](./pic/1.png)"
   ]
  },
  {
   "attachments": {},
   "cell_type": "markdown",
   "metadata": {},
   "source": [
    "Big O - Order of stepts"
   ]
  },
  {
   "attachments": {},
   "cell_type": "markdown",
   "metadata": {},
   "source": [
    "### Omega"
   ]
  },
  {
   "attachments": {},
   "cell_type": "markdown",
   "metadata": {},
   "source": [
    "it is a sort of lower bound - how many steps in best case"
   ]
  },
  {
   "attachments": {},
   "cell_type": "markdown",
   "metadata": {},
   "source": [
    "### Theta \n",
    "- when Upper and Lower bounds are the same"
   ]
  },
  {
   "attachments": {},
   "cell_type": "markdown",
   "metadata": {},
   "source": [
    "# Linear Search"
   ]
  },
  {
   "attachments": {},
   "cell_type": "markdown",
   "metadata": {},
   "source": [
    "- for i from 0 to n-1  \n",
    "    - if number is what we are looking for  \n",
    "        - return True  \n",
    "- Return False  "
   ]
  },
  {
   "attachments": {},
   "cell_type": "markdown",
   "metadata": {},
   "source": [
    "what is running time of this algorithm?  \n",
    "- O - upper bound\n",
    "    - if the result is not there of if it is in the last box\n",
    "    - *for i from 0 to n-1*  \n",
    "    - it will iterate N times\n",
    "- Omega - lower bound\n",
    "    - if result is in the 1st box\n",
    "    - Omega(1) - only 1 step"
   ]
  },
  {
   "attachments": {},
   "cell_type": "markdown",
   "metadata": {},
   "source": [
    "number"
   ]
  },
  {
   "attachments": {},
   "cell_type": "markdown",
   "metadata": {},
   "source": [
    "# Binary Search"
   ]
  },
  {
   "attachments": {},
   "cell_type": "markdown",
   "metadata": {},
   "source": [
    "to be able to use it, the values should be sorted somehow in advance"
   ]
  },
  {
   "attachments": {},
   "cell_type": "markdown",
   "metadata": {},
   "source": [
    "![](./pic/2.png)"
   ]
  },
  {
   "attachments": {},
   "cell_type": "markdown",
   "metadata": {},
   "source": [
    "sudo code:"
   ]
  },
  {
   "attachments": {},
   "cell_type": "markdown",
   "metadata": {},
   "source": [
    "- if no doors\n",
    "    - return False\n",
    "- if number is behind the middle door\n",
    "    - return True\n",
    "- if number < middle door\n",
    "    - search left half\n",
    "- else if number > middle door\n",
    "    - search right half"
   ]
  },
  {
   "attachments": {},
   "cell_type": "markdown",
   "metadata": {},
   "source": [
    "- if no doors\n",
    "    - return False\n",
    "- if number behind doors[middle]\n",
    "    - return True\n",
    "- else if number < doors[middle]\n",
    "    - search doors[0] through doors[middle - 1]\n",
    "- else if number > doors[middle]\n",
    "    - search doors[middle+1] through doors[n-1]\n",
    "\n"
   ]
  },
  {
   "cell_type": "markdown",
   "metadata": {},
   "source": []
  },
  {
   "attachments": {},
   "cell_type": "markdown",
   "metadata": {},
   "source": [
    "# Data Structures"
   ]
  },
  {
   "attachments": {},
   "cell_type": "markdown",
   "metadata": {},
   "source": [
    "after inmplementing a phonebook, where we used arrays, we realized that it is voulnarable for mistakes if these 2 arrays are not tightly connected with each other"
   ]
  },
  {
   "attachments": {},
   "cell_type": "markdown",
   "metadata": {},
   "source": [
    "in C there is an option to create data structures: *typedef struct*"
   ]
  },
  {
   "attachments": {},
   "cell_type": "markdown",
   "metadata": {},
   "source": [
    "# Sorting"
   ]
  },
  {
   "attachments": {},
   "cell_type": "markdown",
   "metadata": {},
   "source": [
    "to be able to implement binary search instead of Linear Search and save dramatic amount of time in searching, we "
   ]
  },
  {
   "attachments": {},
   "cell_type": "markdown",
   "metadata": {},
   "source": [
    "if we have array of integers:  \n",
    "[5, 2, 7, 4, 1, 6, 3, 0]"
   ]
  },
  {
   "attachments": {},
   "cell_type": "markdown",
   "metadata": {},
   "source": [
    "we have different ways to sort them"
   ]
  },
  {
   "attachments": {},
   "cell_type": "markdown",
   "metadata": {},
   "source": [
    "## Selection sort  \n",
    "we select the smallest value again and again and moving it to the beginning\n",
    "1. Inerate through an array as many times as length of an array:\n",
    "    - check the smallest value \n",
    "    - swap first and smallest\n",
    "    - decreae size of a problem by starting from next value \n",
    "\n",
    "\n",
    "\n",
    "- for i from 0 to n-1\n",
    "    - find the smallest value between numbers[i] and numbers[n-1]\n",
    "    - swap smallest value with numbers[i]"
   ]
  },
  {
   "attachments": {},
   "cell_type": "markdown",
   "metadata": {},
   "source": [
    "the efficiency of this algorithm:  \n",
    "- n + (n - 1) + (n - 2) + ... + 1\n",
    "- n(n+1)/2 = $n^2/2 + n/2$ \n",
    "- $O(n^2)$"
   ]
  },
  {
   "attachments": {},
   "cell_type": "markdown",
   "metadata": {},
   "source": [
    "the worst case - when array is already sorted:\n",
    "- Omega($n^2$) - because we still would need to do all the comparisons"
   ]
  },
  {
   "attachments": {},
   "cell_type": "markdown",
   "metadata": {},
   "source": [
    "since Omega and Big O notations are equivalent, we can evaluate this algorithm by Theta notation ($n^2$)  "
   ]
  },
  {
   "attachments": {},
   "cell_type": "markdown",
   "metadata": {},
   "source": [
    "therefore, we can make a conclusion that *Selection Sort* is kind of Slow"
   ]
  },
  {
   "attachments": {},
   "cell_type": "markdown",
   "metadata": {},
   "source": [
    "## Bubble Sort    \n",
    "Smap only pairs where order is not correct"
   ]
  },
  {
   "attachments": {},
   "cell_type": "markdown",
   "metadata": {},
   "source": [
    "Pseudo code:  \n",
    " - Repeat n-1 times\n",
    "    - For i from 0 to n-2\n",
    "        - if numbers[i] and numbers[i+1] out of order\n",
    "            - Swap them\n",
    "    - if no swaps\n",
    "        - quit"
   ]
  },
  {
   "attachments": {},
   "cell_type": "markdown",
   "metadata": {},
   "source": [
    "running time:  \n",
    "- $(n-1)^2$ = $O(n^2)$\n",
    "- $Omega(n)$"
   ]
  },
  {
   "attachments": {},
   "cell_type": "markdown",
   "metadata": {},
   "source": [
    "Can we do better then O($n^2$)?"
   ]
  },
  {
   "attachments": {},
   "cell_type": "markdown",
   "metadata": {},
   "source": [
    "# Recursion"
   ]
  },
  {
   "attachments": {},
   "cell_type": "markdown",
   "metadata": {},
   "source": [
    "when function calls itself"
   ]
  },
  {
   "attachments": {},
   "cell_type": "markdown",
   "metadata": {},
   "source": [
    "# Merge Sort"
   ]
  },
  {
   "attachments": {},
   "cell_type": "markdown",
   "metadata": {},
   "source": [
    "- if only one number\n",
    "    - quit\n",
    "- else\n",
    "    - sort left half\n",
    "    - sort right half\n",
    "    - merge sorted halves"
   ]
  },
  {
   "attachments": {},
   "cell_type": "markdown",
   "metadata": {},
   "source": [
    "what does it mean to Merge sorted halves?"
   ]
  },
  {
   "attachments": {},
   "cell_type": "markdown",
   "metadata": {},
   "source": [
    "- looking at the beginning of each list\n",
    "- choose the smallest value and place in the begginning of new merge list"
   ]
  },
  {
   "attachments": {},
   "cell_type": "markdown",
   "metadata": {},
   "source": [
    "- it uses more memory, but the advantage is that total running time\n"
   ]
  },
  {
   "attachments": {},
   "cell_type": "markdown",
   "metadata": {},
   "source": [
    "- Worst case scenario:  O(log n), which is way faster  \n",
    "- best case: Omega (n log n)"
   ]
  },
  {
   "cell_type": "markdown",
   "metadata": {},
   "source": []
  }
 ],
 "metadata": {
  "kernelspec": {
   "display_name": "Python 3",
   "language": "python",
   "name": "python3"
  },
  "language_info": {
   "name": "python",
   "version": "3.11.1"
  },
  "orig_nbformat": 4,
  "vscode": {
   "interpreter": {
    "hash": "949777d72b0d2535278d3dc13498b2535136f6dfe0678499012e853ee9abcab1"
   }
  }
 },
 "nbformat": 4,
 "nbformat_minor": 2
}
