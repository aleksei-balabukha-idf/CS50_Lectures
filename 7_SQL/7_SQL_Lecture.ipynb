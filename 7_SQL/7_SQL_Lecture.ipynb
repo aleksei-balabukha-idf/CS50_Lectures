{
 "cells": [
  {
   "attachments": {},
   "cell_type": "markdown",
   "metadata": {},
   "source": [
    "# SQL"
   ]
  },
  {
   "attachments": {},
   "cell_type": "markdown",
   "metadata": {},
   "source": [
    "Considering CSV file, since columns are separated by commas,  \n",
    "there might be cases, when data itself contain commas,  \n",
    "in such cases we would need to use \"\" quotes to \"escape\" this problem"
   ]
  },
  {
   "attachments": {},
   "cell_type": "markdown",
   "metadata": {},
   "source": [
    "consider the example:  \n",
    "we have created online spreadsheet to analyze popular TV shows  \n",
    "then we downloaded table if the format of .csv file"
   ]
  },
  {
   "attachments": {},
   "cell_type": "markdown",
   "metadata": {},
   "source": [
    "our next task is to read this CSV file and remove duplicates"
   ]
  },
  {
   "cell_type": "code",
   "execution_count": null,
   "metadata": {},
   "outputs": [],
   "source": [
    "import csv\n",
    "\n",
    "titles = []\n",
    "\n",
    "with open(\"favorites.csv\", \"r\") as file:\n",
    "    reader = csv.DictReader(file)\n",
    "    for row in reader:\n",
    "        title = row[\"title\"].strip() # removes all spaces at the beginning and end of string\n",
    "        title = title.upper()\n",
    "        if title not in titles:\n",
    "            titles.append(title)\n",
    "\n",
    "for title in titles:\n",
    "    print(title)"
   ]
  },
  {
   "cell_type": "code",
   "execution_count": null,
   "metadata": {},
   "outputs": [],
   "source": [
    "# using set:\n",
    "title = set()\n",
    "\n",
    "with open(\"favorites.csv\", \"r\") as file:\n",
    "    reader = csv.DictReader(file)\n",
    "    for row in reader:\n",
    "        title = row[\"title\"].strip() # removes all spaces at the beginning and end of string\n",
    "        title = title.upper()\n",
    "        titles.add(title)\n",
    "\n",
    "for title in titles:\n",
    "    print(title)"
   ]
  },
  {
   "cell_type": "code",
   "execution_count": null,
   "metadata": {},
   "outputs": [],
   "source": [
    "# sort set:\n",
    "titles = sorted(titles)"
   ]
  },
  {
   "attachments": {},
   "cell_type": "markdown",
   "metadata": {},
   "source": [
    "the next task might be to count how many times each TV show title appears in data,  \n",
    "we can do this using Dictionary, which is similar to Tables:"
   ]
  },
  {
   "cell_type": "code",
   "execution_count": null,
   "metadata": {},
   "outputs": [],
   "source": [
    "# using set:\n",
    "title = {}\n",
    "\n",
    "with open(\"favorites.csv\", \"r\") as file:\n",
    "    reader = csv.DictReader(file)\n",
    "    for row in reader:\n",
    "        title = row[\"title\"].strip().upper()\n",
    "        if not title in titles:\n",
    "            titles[title] = 0 # initialize key\n",
    "        titles[title] += 1 # increment counter\n",
    "        \n",
    "\n",
    "for title in sorted(titles):\n",
    "    print(title, titles[title])"
   ]
  },
  {
   "attachments": {},
   "cell_type": "markdown",
   "metadata": {},
   "source": [
    "sorted function can also sort by values or other parameters defined in function:"
   ]
  },
  {
   "cell_type": "code",
   "execution_count": null,
   "metadata": {},
   "outputs": [],
   "source": [
    "def get_value(title):\n",
    "    return titles[title] # function that simply return value by key\n",
    "\n",
    "for title in sorter(titles, key=get_value, reverse=True):\n",
    "    print(title, titles[title])"
   ]
  },
  {
   "attachments": {},
   "cell_type": "markdown",
   "metadata": {},
   "source": [
    "we can through get_value function away, by using lambda function  \n",
    "- lambda function in python is essentially function without name, which probably will not we used several times"
   ]
  },
  {
   "cell_type": "code",
   "execution_count": null,
   "metadata": {},
   "outputs": [],
   "source": [
    "for title in sorted(titles, key=lambda title: titles[title]):\n",
    "    print(title, titles[title])"
   ]
  },
  {
   "attachments": {},
   "cell_type": "markdown",
   "metadata": {},
   "source": [
    "what if we are interested only in \"The Office\" TV show"
   ]
  },
  {
   "cell_type": "code",
   "execution_count": null,
   "metadata": {},
   "outputs": [],
   "source": [
    "counter = 0\n",
    "\n",
    "with open(\"favorites.csv\", \"r\") as file:\n",
    "    reader = csv.DictReader(file)\n",
    "    for row in reader:\n",
    "        title = row[\"title\"].strip().upper()\n",
    "        if title == \"THE OFFICE\":\n",
    "            counter += 1\n",
    "        \n",
    "\n",
    "print(f\"Number of people who likes The Office: {counter}\")\n"
   ]
  },
  {
   "attachments": {},
   "cell_type": "markdown",
   "metadata": {},
   "source": [
    "but what if we have several rows like \"Office\" and other with \"The Office\", how we can count all options together"
   ]
  },
  {
   "attachments": {},
   "cell_type": "markdown",
   "metadata": {},
   "source": [
    "#### Regular Expressions"
   ]
  },
  {
   "attachments": {},
   "cell_type": "markdown",
   "metadata": {},
   "source": [
    "Regular Expressions are very useful for cleaning the data"
   ]
  },
  {
   "attachments": {},
   "cell_type": "markdown",
   "metadata": {},
   "source": [
    "- . - any character\n",
    "- .* - 0 or more characters\n",
    "- .+ - 1 or more characters\n",
    "- ? - optional\n",
    "- ^ - start of input\n",
    "- $ - end of input"
   ]
  },
  {
   "attachments": {},
   "cell_type": "markdown",
   "metadata": {},
   "source": [
    "for example regular expression for email address might look like:  \n"
   ]
  },
  {
   "cell_type": "code",
   "execution_count": 1,
   "metadata": {},
   "outputs": [],
   "source": [
    "regular_expression = '''.+@.+\\..+ '''"
   ]
  },
  {
   "attachments": {},
   "cell_type": "markdown",
   "metadata": {},
   "source": [
    "\\ .  is \".\" literally"
   ]
  },
  {
   "attachments": {},
   "cell_type": "markdown",
   "metadata": {},
   "source": [
    "fix the problem with Offine TV show by using regular expressions:"
   ]
  },
  {
   "cell_type": "code",
   "execution_count": null,
   "metadata": {},
   "outputs": [],
   "source": [
    "import csv\n",
    "import re # regular expressions\n",
    "\n",
    "counter = 0\n",
    "\n",
    "with open(\"favorites.csv\") as file:\n",
    "    reader = csv.DictReader(file)\n",
    "    for row in reader:\n",
    "        title = row[\"title\"].strip().upper()\n",
    "        if re.search(\"^(OFFICE|THE.OFFICE)\", title):\n",
    "            counter += 1"
   ]
  },
  {
   "attachments": {},
   "cell_type": "markdown",
   "metadata": {},
   "source": [
    "in the regular expression above, we used several features:\n",
    "- () encapsulate logical statements\n",
    "- ^ - beginning of a string\n",
    "- | - logical OR\n",
    "- THE.OFFICE - we placed . to check options where people might put some other character instead of space"
   ]
  },
  {
   "attachments": {},
   "cell_type": "markdown",
   "metadata": {},
   "source": [
    "even though python is powerful language, we still had to write relatively a lot of code"
   ]
  },
  {
   "attachments": {},
   "cell_type": "markdown",
   "metadata": {},
   "source": [
    "# Relational Database"
   ]
  },
  {
   "attachments": {},
   "cell_type": "markdown",
   "metadata": {},
   "source": [
    "CRUD: the only things we can do using SQL  \n",
    "- C - Create (CREATE, INSERT)\n",
    "- R - Read (SELECT)\n",
    "- U - Update (UPDATE)\n",
    "- D - Delete (DELETE, DROP)"
   ]
  },
  {
   "attachments": {},
   "cell_type": "markdown",
   "metadata": {},
   "source": [
    "Primary Key, Foreign Key"
   ]
  },
  {
   "attachments": {},
   "cell_type": "markdown",
   "metadata": {},
   "source": [
    "# Indexes"
   ]
  },
  {
   "cell_type": "code",
   "execution_count": null,
   "metadata": {},
   "outputs": [],
   "source": [
    "index_statement = '''\n",
    "CREATE INDEX name ON table (column, ...);\n",
    "'''"
   ]
  },
  {
   "attachments": {},
   "cell_type": "markdown",
   "metadata": {},
   "source": [
    "- Is some kind of fancy data structure, that allows database to do better then linear search\n",
    "- it is like giving database a clue: I know I am gonna search on this table and column a lot, do something with data structures to speed things up\n",
    "    - may be it is using a tree or try or hash table: some fancier 2D data structure\n",
    "    - may be tree structure so it is just much faster to find data especially if it is sorting data now\n",
    "    "
   ]
  },
  {
   "attachments": {},
   "cell_type": "markdown",
   "metadata": {},
   "source": [
    "- B tree - In world of relational databases, the type of data structure used is B tree"
   ]
  },
  {
   "attachments": {},
   "cell_type": "markdown",
   "metadata": {},
   "source": [
    "![](./pic/1.png)"
   ]
  },
  {
   "attachments": {},
   "cell_type": "markdown",
   "metadata": {},
   "source": [
    "- it is not binary, because some nodes might have more than 2 children or fewer\n",
    "- it is wide and relatively shallow tree, it is now very tall  \n",
    "- if data is stored in such tree, database can find it more quickly "
   ]
  },
  {
   "attachments": {},
   "cell_type": "markdown",
   "metadata": {},
   "source": [
    "SQL has to take some time to create such structure, using some sort of techniques"
   ]
  },
  {
   "attachments": {},
   "cell_type": "markdown",
   "metadata": {},
   "source": [
    "# JOIN"
   ]
  },
  {
   "cell_type": "code",
   "execution_count": 1,
   "metadata": {},
   "outputs": [],
   "source": [
    "shows_by_star = '''\n",
    "select\n",
    "    id as person_id\n",
    "from people\n",
    "where\n",
    "    name = 'Steve Carell'\n",
    "\n",
    "\n",
    "select\n",
    "    show_id\n",
    "from stars\n",
    "where\n",
    "    person_id in (\n",
    "        select id from people where name = 'Steve Carell'\n",
    "    )\n",
    "\n",
    "\n",
    "select\n",
    "    title\n",
    "from shows\n",
    "where\n",
    "    person_id in (\n",
    "        select\n",
    "            show_id\n",
    "        from stars\n",
    "        where\n",
    "            person_id in (\n",
    "                select id from people where name = 'Steve Carell'\n",
    "    )\n",
    "    )\n",
    "'''"
   ]
  },
  {
   "attachments": {},
   "cell_type": "markdown",
   "metadata": {},
   "source": [
    "from query above, we see that we are searching by *PEOPLE.name*  \n",
    "and we are searching by *STARS.person_id*"
   ]
  },
  {
   "cell_type": "code",
   "execution_count": 2,
   "metadata": {},
   "outputs": [],
   "source": [
    "indexes = '''\n",
    "CREATE INDEX person_index ON start (person_id);\n",
    "\n",
    "\n",
    "CREATE INDEX show_index ON stars (show_id);\n",
    "\n",
    "\n",
    "CREATE INDEX people_index ON people (name);\n",
    "'''"
   ]
  },
  {
   "attachments": {},
   "cell_type": "markdown",
   "metadata": {},
   "source": [
    "and if we run our query above, we can see that execution time is reduced significantly"
   ]
  },
  {
   "attachments": {},
   "cell_type": "markdown",
   "metadata": {},
   "source": [
    " # SQL injection attack  \n",
    " Let us consider case of Login page of University web-site, which uses SQL DB to store data  \n"
   ]
  },
  {
   "attachments": {},
   "cell_type": "markdown",
   "metadata": {},
   "source": [
    "what if somebody maliciously put login email in the following form:  \n",
    "*emal@address.com'--*  \n",
    "- ' is used for quoting things in SQL\n",
    "- \"--\" is used for commenting"
   ]
  },
  {
   "attachments": {},
   "cell_type": "markdown",
   "metadata": {},
   "source": [
    "Underneath the hood the SQL code might be something like:  \n"
   ]
  },
  {
   "cell_type": "code",
   "execution_count": 5,
   "metadata": {},
   "outputs": [
    {
     "name": "stderr",
     "output_type": "stream",
     "text": [
      "Bad pipe message: %s [b'\\xc7\"\\'aN\\xa5\\x8fu\\x94Q\\x9ed\\xd21S\\xaa\\xb8\\xbc $^\\r\\x99\\xd0i\\x00\\x16\\xb0r\\xb3rQ\\xd0\\xf2#\\xac5\\x9f4]\\xef\\x91+\\xba\\x1dL\\x97\\xea\\x05+\\x0e\\x00\\x08\\x13\\x02\\x13\\x03\\x13\\x01\\x00\\xff\\x01']\n",
      "Bad pipe message: %s [b\"h\\xb8\\xe6V>S\\r|\\xbe\\x0c\\xf3R\\xac&\\x04\\xafiz\\x00\\x00|\\xc0,\\xc00\\x00\\xa3\\x00\\x9f\\xcc\\xa9\\xcc\\xa8\\xcc\\xaa\\xc0\\xaf\\xc0\\xad\\xc0\\xa3\\xc0\\x9f\\xc0]\\xc0a\\xc0W\\xc0S\\xc0+\\xc0/\\x00\\xa2\\x00\\x9e\\xc0\\xae\\xc0\\xac\\xc0\\xa2\\xc0\\x9e\\xc0\\\\\\xc0`\\xc0V\\xc0R\\xc0$\\xc0(\\x00k\\x00j\\xc0#\\xc0'\\x00g\\x00@\\xc0\\n\\xc0\\x14\\x009\\x008\\xc0\\t\\xc0\\x13\\x003\\x002\\x00\\x9d\\xc0\\xa1\\xc0\\x9d\\xc0Q\\x00\\x9c\\xc0\\xa0\\xc0\\x9c\\xc0P\\x00=\\x00<\\x005\\x00/\\x00\\x9a\\x00\\x99\\xc0\\x07\\xc0\\x11\\x00\\x96\\x00\\x05\\x00\\xff\\x01\\x00\\x00j\\x00\\x00\\x00\\x0e\\x00\\x0c\\x00\\x00\\t127.0.0.1\\x00\\x0b\\x00\\x04\\x03\\x00\\x01\\x02\\x00\\n\\x00\\x0c\\x00\\n\\x00\\x1d\\x00\\x17\\x00\\x1e\\x00\\x19\\x00\\x18\\x00#\\x00\\x00\\x00\\x16\\x00\\x00\\x00\\x17\\x00\\x00\\x00\\r\\x000\\x00.\\x04\\x03\\x05\\x03\\x06\\x03\\x08\\x07\\x08\\x08\\x08\\t\\x08\\n\\x08\\x0b\\x08\\x04\\x08\\x05\", b'\\x04\\x01\\x05\\x01\\x06\\x01\\x03']\n",
      "Bad pipe message: %s [b'\\x03\\x03']\n",
      "Bad pipe message: %s [b'']\n",
      "Bad pipe message: %s [b'', b'\\x02']\n",
      "Bad pipe message: %s [b'\\x05\\x02\\x06']\n",
      "Bad pipe message: %s [b'\\xba \\xe8\\xe5t\\x91\\xed~\\xd8\\xb4\\xef=\\x8bzC\\xc1\\x8dF\\x00\\x00\\xa2\\xc0\\x14\\xc0\\n\\x009\\x008\\x007\\x006\\x00\\x88\\x00\\x87\\x00\\x86\\x00\\x85\\xc0\\x19\\x00:\\x00\\x89\\xc0\\x0f\\xc0\\x05\\x005\\x00\\x84\\xc0\\x13\\xc0\\t\\x003\\x002\\x001\\x000\\x00\\x9a\\x00\\x99\\x00\\x98\\x00\\x97\\x00E\\x00D\\x00C\\x00B\\xc0\\x18\\x004\\x00\\x9b\\x00F\\xc0\\x0e\\xc0', b'/\\x00\\x96']\n",
      "Bad pipe message: %s [b'\\x02\\xc9\\x0c\\xe2\\xa4\\xccO\\x125\\xef\\xb6\\x8b\\xf7\\xc5\\x80\\x97\\xcf3\\x00\\x00\\xa2\\xc0\\x14\\xc0\\n\\x009\\x008\\x007\\x006\\x00\\x88\\x00\\x87\\x00\\x86\\x00\\x85\\xc0\\x19\\x00:\\x00\\x89\\xc0']\n",
      "Bad pipe message: %s [b'\\x05\\x005\\x00\\x84\\xc0\\x13\\xc0\\t\\x003\\x002\\x00']\n",
      "Bad pipe message: %s [b'0\\x00\\x9a\\x00\\x99\\x00\\x98\\x00\\x97\\x00E\\x00D\\x00C\\x00B\\xc0\\x18\\x004\\x00\\x9b\\x00F\\xc0\\x0e\\xc0\\x04\\x00/\\x00\\x96\\x00A\\x00\\x07\\xc0\\x11\\xc0\\x07\\xc0\\x16\\x00\\x18\\xc0\\x0c\\xc0']\n",
      "Bad pipe message: %s [b'\\x05']\n",
      "Bad pipe message: %s [b'o\\x12\\xc9\\xda\\xb7\\xa8\\xcd}\\xd2\\xe9\\xc8\\xbd\\x06C\\xdd\\xf9\\x01\\xac\\x00\\x00\\xa2\\xc0\\x14\\xc0\\n\\x009\\x008\\x007\\x006\\x00\\x88\\x00\\x87\\x00\\x86\\x00\\x85\\xc0\\x19']\n",
      "Bad pipe message: %s [b\"\\\\\\x05\\xc7\\x88]\\x06j/$\\xcf0\\x1f\\x16\\xa4\\x02@\\xa4Y\\x00\\x00\\x86\\xc00\\xc0,\\xc0(\\xc0$\\xc0\\x14\\xc0\\n\\x00\\xa5\\x00\\xa3\\x00\\xa1\\x00\\x9f\\x00k\\x00j\\x00i\\x00h\\x009\\x008\\x007\\x006\\xc02\\xc0.\\xc0*\\xc0&\\xc0\\x0f\\xc0\\x05\\x00\\x9d\\x00=\\x005\\xc0/\\xc0+\\xc0'\\xc0#\\xc0\\x13\\xc0\\t\\x00\\xa4\\x00\\xa2\\x00\\xa0\\x00\\x9e\\x00g\\x00@\\x00?\\x00>\\x003\\x002\\x001\\x000\\xc01\\xc0-\\xc0)\\xc0%\\xc0\\x0e\\xc0\\x04\\x00\\x9c\\x00<\\x00/\\x00\\x9a\\x00\\x99\\x00\\x98\\x00\\x97\\x00\\x96\\x00\\x07\\xc0\\x11\\xc0\\x07\\xc0\\x0c\\xc0\\x02\\x00\\x05\\x00\\x04\\x00\\xff\\x02\\x01\\x00\\x00g\\x00\\x00\\x00\\x0e\\x00\\x0c\\x00\\x00\\t127.0.0.1\\x00\\x0b\\x00\\x04\\x03\\x00\\x01\\x02\\x00\\n\\x00\\x1c\\x00\\x1a\\x00\\x17\\x00\\x19\\x00\\x1c\\x00\\x1b\\x00\\x18\\x00\\x1a\\x00\\x16\\x00\\x0e\\x00\\r\\x00\\x0b\\x00\\x0c\\x00\"]\n",
      "Bad pipe message: %s [b'\\n\\x00#\\x00\\x00\\x00\\r\\x00']\n",
      "Bad pipe message: %s [b'\\x1e\\x06\\x01\\x06\\x02\\x06\\x03\\x05\\x01\\x05\\x02\\x05\\x03\\x04\\x01\\x04\\x02\\x04\\x03\\x03\\x01\\x03\\x02\\x03\\x03\\x02\\x01\\x02\\x02\\x02\\x03']\n",
      "Bad pipe message: %s [b\"\\xcee\\xda9\\x1ctA\\xabP\\x06\\xcb\\xac\\x9a\\x0c\\xe2\\xaa\\xfa\\xfa\\x00\\x00\\xf4\\xc00\\xc0,\\xc0(\\xc0$\\xc0\\x14\\xc0\\n\\x00\\xa5\\x00\\xa3\\x00\\xa1\\x00\\x9f\\x00k\\x00j\\x00i\\x00h\\x009\\x008\\x007\\x006\\x00\\x88\\x00\\x87\\x00\\x86\\x00\\x85\\xc0\\x19\\x00\\xa7\\x00m\\x00:\\x00\\x89\\xc02\\xc0.\\xc0*\\xc0&\\xc0\\x0f\\xc0\\x05\\x00\\x9d\\x00=\\x005\\x00\\x84\\xc0/\\xc0+\\xc0'\\xc0#\\xc0\\x13\\xc0\\t\\x00\\xa4\\x00\\xa2\\x00\\xa0\\x00\\x9e\\x00g\\x00@\\x00?\\x00>\\x003\\x002\\x001\\x000\\x00\\x9a\\x00\\x99\\x00\\x98\\x00\\x97\\x00E\\x00D\\x00C\\x00B\\xc0\\x18\\x00\\xa6\\x00l\\x004\\x00\\x9b\\x00F\\xc01\\xc0-\\xc0)\\xc0%\\xc0\\x0e\"]\n",
      "Bad pipe message: %s [b'\\x00\\x9c\\x00<\\x00/\\x00\\x96\\x00A\\x00\\x07\\xc0\\x11\\xc0\\x07\\xc0\\x16\\x00\\x18\\xc0\\x0c\\xc0\\x02\\x00\\x05\\x00\\x04\\xc0\\x12\\xc0\\x08\\x00\\x16\\x00\\x13\\x00\\x10\\x00\\r\\xc0\\x17\\x00\\x1b\\xc0\\r\\xc0\\x03\\x00\\n\\x00\\x15\\x00\\x12\\x00\\x0f\\x00\\x0c\\x00\\x1a\\x00\\t\\x00\\x14\\x00\\x11\\x00\\x19\\x00\\x08\\x00\\x06\\x00\\x17\\x00\\x03\\xc0\\x10\\xc0\\x06\\xc0\\x15\\xc0\\x0b\\xc0\\x01\\x00;\\x00\\x02\\x00\\x01\\x00\\xff\\x02\\x01\\x00\\x00g\\x00\\x00\\x00\\x0e\\x00\\x0c\\x00\\x00\\t127.0.0.1\\x00\\x0b\\x00\\x04\\x03\\x00\\x01\\x02\\x00\\n\\x00\\x1c\\x00\\x1a\\x00\\x17\\x00\\x19\\x00\\x1c\\x00\\x1b\\x00\\x18\\x00\\x1a\\x00\\x16\\x00\\x0e\\x00\\r\\x00\\x0b\\x00\\x0c\\x00\\t\\x00\\n\\x00#\\x00\\x00\\x00\\r\\x00 \\x00\\x1e\\x06\\x01\\x06\\x02\\x06\\x03\\x05\\x01\\x05\\x02\\x05\\x03\\x04\\x01\\x04\\x02\\x04\\x03\\x03\\x01\\x03\\x02\\x03\\x03']\n",
      "Bad pipe message: %s [b'\\x02', b'\\x03']\n"
     ]
    }
   ],
   "source": [
    "rows = db.execute('''\n",
    "    SELECT * FROM users\n",
    "    WHERE username = ? and password = ?\n",
    "    ''', username, password)\n",
    "\n",
    "if len(rows) == 1:\n",
    "    #log user in\n",
    "    pass"
   ]
  },
  {
   "attachments": {},
   "cell_type": "markdown",
   "metadata": {},
   "source": [
    "the aim of this code is to check whether there is an account with such username and password, and if there is 1 such account in DB, we let user login"
   ]
  },
  {
   "attachments": {},
   "cell_type": "markdown",
   "metadata": {},
   "source": [
    "what if though this code is not as well written as it currently is? and for example it is not using ? question mark  \n",
    "cs50 library defend code with ? from such attacks"
   ]
  },
  {
   "attachments": {},
   "cell_type": "markdown",
   "metadata": {},
   "source": [
    "if we wrote this code to manually create SQL query, we could do something like this:"
   ]
  },
  {
   "cell_type": "code",
   "execution_count": null,
   "metadata": {},
   "outputs": [],
   "source": [
    "#another_approach\n",
    "rows = db.execute(f\"SELECT * FROM users WHERE username = '{username}' AND password = '{password}'\")\n",
    "\n",
    "if len(rows) == 1:\n",
    "    #login"
   ]
  },
  {
   "attachments": {},
   "cell_type": "markdown",
   "metadata": {},
   "source": [
    "in that case: since we use '' to surround users inputs into our SQL code, we could fail if they have apostrophe in their names"
   ]
  },
  {
   "attachments": {},
   "cell_type": "markdown",
   "metadata": {},
   "source": [
    "or they if they use ' it can finish our single quote"
   ]
  },
  {
   "attachments": {},
   "cell_type": "markdown",
   "metadata": {},
   "source": [
    "# Race Conditions"
   ]
  },
  {
   "attachments": {},
   "cell_type": "markdown",
   "metadata": {},
   "source": [
    "what happens when users try to log in or press some button on the same time?"
   ]
  },
  {
   "attachments": {},
   "cell_type": "markdown",
   "metadata": {},
   "source": [
    "It can happen at any time when we have shared data:  \n",
    "for example when users like the same pictures on instagram, software needs to go to database and update records"
   ]
  },
  {
   "cell_type": "code",
   "execution_count": null,
   "metadata": {},
   "outputs": [],
   "source": [
    "rows = db.execute(\"SELECT likes FROM posts WHERE id = ?\", id)\n",
    "likes = rows[0][\"likes\"]\n",
    "db.execute(\"UPDATE posts SET likes = ? WHERE id = ?\", likes + 1, id)"
   ]
  },
  {
   "attachments": {},
   "cell_type": "markdown",
   "metadata": {},
   "source": [
    "- Atomic code - code that is either executed all or not executed at all"
   ]
  },
  {
   "attachments": {},
   "cell_type": "markdown",
   "metadata": {},
   "source": [
    "the code above is not atomic - it is executed line by line  \n"
   ]
  },
  {
   "attachments": {},
   "cell_type": "markdown",
   "metadata": {},
   "source": [
    "solutions:\n",
    "- locks\n",
    "- transactions:"
   ]
  },
  {
   "cell_type": "code",
   "execution_count": null,
   "metadata": {},
   "outputs": [],
   "source": [
    "db.execute(\"BEGIN TRANSACTION\")\n",
    "rows = db.execute(\"SELECT likes FROM posts WHERE id = ?\", id)\n",
    "likes = rows[0][\"likes\"]\n",
    "db.execute(\"UPDATE posts SET likes = ? WHERE id = ?\", likes+1, id)\n",
    "db.execute(\"COMMIT\") # commit transaction"
   ]
  },
  {
   "cell_type": "markdown",
   "metadata": {},
   "source": []
  }
 ],
 "metadata": {
  "kernelspec": {
   "display_name": "Python 3",
   "language": "python",
   "name": "python3"
  },
  "language_info": {
   "codemirror_mode": {
    "name": "ipython",
    "version": 3
   },
   "file_extension": ".py",
   "mimetype": "text/x-python",
   "name": "python",
   "nbconvert_exporter": "python",
   "pygments_lexer": "ipython3",
   "version": "3.11.1"
  },
  "orig_nbformat": 4,
  "vscode": {
   "interpreter": {
    "hash": "949777d72b0d2535278d3dc13498b2535136f6dfe0678499012e853ee9abcab1"
   }
  }
 },
 "nbformat": 4,
 "nbformat_minor": 2
}
