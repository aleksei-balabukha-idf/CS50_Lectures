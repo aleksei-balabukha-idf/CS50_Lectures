{
 "cells": [
  {
   "attachments": {},
   "cell_type": "markdown",
   "metadata": {},
   "source": [
    "# Memory"
   ]
  },
  {
   "attachments": {},
   "cell_type": "markdown",
   "metadata": {},
   "source": [
    "memory of computer can only store a finite amount of information  \n",
    "for example, if we zoom in some picture, we would see that it consists of pixels, small squares with colors"
   ]
  },
  {
   "attachments": {},
   "cell_type": "markdown",
   "metadata": {},
   "source": [
    "### Hexadecimal\n",
    "- base 16\n",
    "- system with 16 values: 0, 1, 2, 3, 4, 5, 6, 7, 8, 9, A, B, C, D, E, F"
   ]
  },
  {
   "attachments": {},
   "cell_type": "markdown",
   "metadata": {},
   "source": [
    "for example if we have number represented with 2 hexadecimal digits"
   ]
  },
  {
   "attachments": {},
   "cell_type": "markdown",
   "metadata": {},
   "source": [
    "- 0f = 15 (decimal)\n",
    "- 10 = 16 (decimal)\n",
    "- ff = 255 $(16*15 + 15)$ = 11111111 (binary) (8 bits)"
   ]
  },
  {
   "attachments": {},
   "cell_type": "markdown",
   "metadata": {},
   "source": [
    "so, if we represent values in hexadecimal system, there would be confusion between some numbers in decimal and hexadecimal systems, since they often look the same"
   ]
  },
  {
   "attachments": {},
   "cell_type": "markdown",
   "metadata": {},
   "source": [
    "so the convention, is put \"x\" in front of digits in hexadecimal system to be able to differentiate decimal and hexadecimal:  \n",
    "- 0x0, 0x1, 0x2, ... 0xA, ..., 0xF, 0x10, ..., 0xFF, etc"
   ]
  },
  {
   "attachments": {},
   "cell_type": "markdown",
   "metadata": {},
   "source": [
    "- pointer - variable that stores an address of some value - location of some value"
   ]
  },
  {
   "attachments": {},
   "cell_type": "markdown",
   "metadata": {},
   "source": [
    "![](./pic/1.png)"
   ]
  },
  {
   "attachments": {},
   "cell_type": "markdown",
   "metadata": {},
   "source": [
    "if 50 is an Integer and p is the address of this integer, why it takes more memory to store address of something  \n",
    "  \n",
    "\n",
    "years ago, pointers were 32 bytes, which is approximately 2 billion different values, therefore, computers could not have more then 8 gigabytes of memory, since they could not have enough pointers to describe the rest  \n",
    "not pointers are 64 bytes which is enough for even 1T of memory"
   ]
  },
  {
   "attachments": {},
   "cell_type": "markdown",
   "metadata": {},
   "source": [
    "String is actually and array, and in C, there are no such default data type"
   ]
  },
  {
   "attachments": {},
   "cell_type": "markdown",
   "metadata": {},
   "source": [
    "![](./pic/2.png)"
   ]
  },
  {
   "attachments": {},
   "cell_type": "markdown",
   "metadata": {},
   "source": [
    "knowing that we might guess, that if we consider Sting \"HI!\" it will appear in a form of array of 4 characters with 8 zeros at the end  \n",
    "if we assume that H character has address 0x123 therefore following characters: 0x124, 0x125 and 0x126 respectively  \n",
    "if we assign this String to a variable, it would be *Pointer* to the 1st character"
   ]
  },
  {
   "attachments": {},
   "cell_type": "markdown",
   "metadata": {},
   "source": [
    "\"string s\" is the same as \"char *s\"!"
   ]
  },
  {
   "attachments": {},
   "cell_type": "markdown",
   "metadata": {},
   "source": [
    "if we print the addresses of all characters we would see that they go one by one incrementally and \\0 also there to state, where string ends"
   ]
  },
  {
   "attachments": {},
   "cell_type": "markdown",
   "metadata": {},
   "source": [
    "- pointer arighmetic: we can get characters of the string by adding required number to the address of the 1st character\n",
    "- and this is works with different data types, since compiler already knows what data type is inside of array, so we do not need to add 4 bits if it is integer"
   ]
  },
  {
   "attachments": {},
   "cell_type": "markdown",
   "metadata": {},
   "source": [
    "#### Comparison of integers"
   ]
  },
  {
   "attachments": {},
   "cell_type": "markdown",
   "metadata": {},
   "source": [
    "if we compare 2 int with each other:"
   ]
  },
  {
   "cell_type": "code",
   "execution_count": 1,
   "metadata": {},
   "outputs": [],
   "source": [
    "c_code = '''\n",
    "#include <cs50.h>\n",
    "#include <stdio.h>\n",
    "\n",
    "int main(void)\n",
    "{\n",
    "    int i = get_int(\"i: \");\n",
    "    int j = get_int(\"j: \");\n",
    "\n",
    "    if (i == j)\n",
    "    {\n",
    "        printf(\"Same\\n\");\n",
    "    }\n",
    "    else\n",
    "    {\n",
    "        printf(\"Different\\n\");\n",
    "    }\n",
    "}\n",
    "'''"
   ]
  },
  {
   "attachments": {},
   "cell_type": "markdown",
   "metadata": {},
   "source": [
    "when we run this program everything goes fine"
   ]
  },
  {
   "attachments": {},
   "cell_type": "markdown",
   "metadata": {},
   "source": [
    "but what will happen, if we switch to Strings?"
   ]
  },
  {
   "cell_type": "code",
   "execution_count": 2,
   "metadata": {},
   "outputs": [],
   "source": [
    "code_c = '''\n",
    "#include <cs50.h>\n",
    "#include <stdio.h>\n",
    "\n",
    "int main(void)\n",
    "{\n",
    "    string s = get_string(\"s: \");\n",
    "    string t = get_string(\"t: \");\n",
    "\n",
    "    if (s == t)\n",
    "    {\n",
    "        printf(\"Same\\n\");\n",
    "    }\n",
    "    else\n",
    "    {\n",
    "        printf(\"Different\\n\");\n",
    "    }\n",
    "}\n",
    "'''"
   ]
  },
  {
   "attachments": {},
   "cell_type": "markdown",
   "metadata": {},
   "source": [
    "if now, we compare to same strings, we would see that comparison shows that they are **Different**"
   ]
  },
  {
   "attachments": {},
   "cell_type": "markdown",
   "metadata": {},
   "source": [
    "this happens, because strings are arrays, which in turn are **Pointers** to the specific 1st character of array  \n",
    "in the code above, there are 2 strings, therefore, they are located in different parts of computer's memory and hence have different addresses"
   ]
  },
  {
   "cell_type": "code",
   "execution_count": 3,
   "metadata": {},
   "outputs": [],
   "source": [
    "code_c = '''\n",
    "#include <cs50.h>\n",
    "#include <stdio.h>\n",
    "\n",
    "int main(void)\n",
    "{\n",
    "    string *s = get_string(\"s: \");\n",
    "    string *t = get_string(\"t: \");\n",
    "\n",
    "    if (s == t)\n",
    "    {\n",
    "        printf(\"Same\\n\");\n",
    "    }\n",
    "    else\n",
    "    {\n",
    "        printf(\"Different\\n\");\n",
    "    }\n",
    "}\n",
    "'''"
   ]
  },
  {
   "attachments": {},
   "cell_type": "markdown",
   "metadata": {},
   "source": [
    "if we use more canonical notation of string - which is address of the 1st character of the string, it will be more clear"
   ]
  },
  {
   "cell_type": "code",
   "execution_count": 4,
   "metadata": {},
   "outputs": [],
   "source": [
    "code_c = '''\n",
    "#include <cs50.h>\n",
    "#include <stdio.h>\n",
    "\n",
    "int main(void)\n",
    "{\n",
    "    char *s = get_string(\"s: \");\n",
    "    char *t = get_string(\"t: \");\n",
    "\n",
    "    if (*s == *t)\n",
    "    {\n",
    "        printf(\"Same\\n\");\n",
    "    }\n",
    "    else\n",
    "    {\n",
    "        printf(\"Different\\n\");\n",
    "    }\n",
    "}\n",
    "'''"
   ]
  },
  {
   "attachments": {},
   "cell_type": "markdown",
   "metadata": {},
   "source": [
    "if we change the code in that way, we can now, see that we can compare 1st character, by using * again to see what character is behind of that address"
   ]
  },
  {
   "attachments": {},
   "cell_type": "markdown",
   "metadata": {},
   "source": [
    "![](./pic/3.png)"
   ]
  },
  {
   "attachments": {},
   "cell_type": "markdown",
   "metadata": {},
   "source": [
    "Another case:"
   ]
  },
  {
   "cell_type": "code",
   "execution_count": 5,
   "metadata": {},
   "outputs": [],
   "source": [
    "code_c = '''\n",
    "#include <cs50.h>\n",
    "#include <stdio.h>\n",
    "#include <string.h>\n",
    "#include <ctype.h>\n",
    "\n",
    "int main(void)\n",
    "{\n",
    "    string s = get_string(\"s: \");\n",
    "    string t = s;\n",
    "    t[0] = toupper(t[0]);\n",
    "\n",
    "    printf(\"s: %s\\n\", s);\n",
    "    printf(\"t: %s\\n\", t);\n",
    "}\n",
    "'''"
   ]
  },
  {
   "attachments": {},
   "cell_type": "markdown",
   "metadata": {},
   "source": [
    "If we provide string \"hi!\" all in lower case, we then see that 1st character in BOTH strings Capitalized  \n",
    "this happened, since when we assigned one string to another varibale, which technically is simply address of that 1st string"
   ]
  },
  {
   "attachments": {},
   "cell_type": "markdown",
   "metadata": {},
   "source": [
    "to solve this problem, we need to give additional space in memory, where we can then put value of string we wanted to copy"
   ]
  },
  {
   "attachments": {},
   "cell_type": "markdown",
   "metadata": {},
   "source": [
    "# Dynamic Memory Allocation"
   ]
  },
  {
   "attachments": {},
   "cell_type": "markdown",
   "metadata": {},
   "source": [
    "- malloc - memory allocate\n",
    "- free - the opposite to malloc. When we are done using this memory, we can say that this memory can be free"
   ]
  },
  {
   "attachments": {},
   "cell_type": "markdown",
   "metadata": {},
   "source": [
    "- Buffer overflow - when we ask piece of memory that we do not have access to (go beyond boundaries of an array)"
   ]
  },
  {
   "cell_type": "code",
   "execution_count": 6,
   "metadata": {},
   "outputs": [],
   "source": [
    "code_c = '''\n",
    "#include <stdio.h>\n",
    "#include <stdlib.h>\n",
    "\n",
    "int main(void)\n",
    "{\n",
    "    // allocate memory enough to store 3 integers:\n",
    "    int *x = malloc(3 * sizeof(int));\n",
    "    x[1] = 72;\n",
    "    x[2] = 73;\n",
    "    x[3] = 33; // touching memory that we should not\n",
    "}\n",
    "'''"
   ]
  },
  {
   "attachments": {},
   "cell_type": "markdown",
   "metadata": {},
   "source": [
    "in this example we assign value for the 4th element of the array, while allocating space only for 3 elements"
   ]
  },
  {
   "attachments": {},
   "cell_type": "markdown",
   "metadata": {},
   "source": [
    "however, even after compiling and executing this program, we do not see any errors"
   ]
  },
  {
   "attachments": {},
   "cell_type": "markdown",
   "metadata": {},
   "source": [
    "there are utilities that help to detect such mistakes"
   ]
  },
  {
   "attachments": {},
   "cell_type": "markdown",
   "metadata": {},
   "source": [
    "*valgrind ./memory*"
   ]
  },
  {
   "attachments": {},
   "cell_type": "markdown",
   "metadata": {},
   "source": [
    "- valgrind program - this is tool to detect memory problems in code\n",
    "    - memory leak - when we allocate memory, but do not free it later"
   ]
  },
  {
   "attachments": {},
   "cell_type": "markdown",
   "metadata": {},
   "source": [
    "#### Error of initialization  "
   ]
  },
  {
   "cell_type": "code",
   "execution_count": 7,
   "metadata": {},
   "outputs": [],
   "source": [
    "garbage_c = '''\n",
    "#include <stdio.h>\n",
    "#include <stdio.h>\n",
    "\n",
    "int main(void)\n",
    "{\n",
    "    int scores[3];\n",
    "    for (int i = 0; i < 3; i++)\n",
    "    {\n",
    "        printf(\"%i\\n\", scores[i]);\n",
    "    }\n",
    "}\n",
    "'''"
   ]
  },
  {
   "attachments": {},
   "cell_type": "markdown",
   "metadata": {},
   "source": [
    "the error in this code is that we have not initialized the values of an array, therefore in print section we can see some randoms numbers from a computer's memory  \n",
    "- this can be very important, since in some cases this information may be very sensitive (bank card details, passwords, etc.)"
   ]
  },
  {
   "attachments": {},
   "cell_type": "markdown",
   "metadata": {},
   "source": [
    "#### Segmentation Fault"
   ]
  },
  {
   "attachments": {},
   "cell_type": "markdown",
   "metadata": {},
   "source": [
    "- if may happen if we are trying to dereference pointer which does not point to anything"
   ]
  },
  {
   "attachments": {},
   "cell_type": "markdown",
   "metadata": {},
   "source": [
    "##### Swap example  \n",
    "Previously, we found out that Swap is an important operation for example in Bubble sort algorithm  \n",
    "So let us implement this in code"
   ]
  },
  {
   "cell_type": "code",
   "execution_count": 8,
   "metadata": {},
   "outputs": [],
   "source": [
    "spap_c = '''\n",
    "void swap(int a, int b)\n",
    "{\n",
    "    int tmp = a;\n",
    "    a = b;\n",
    "    b = tmp;\n",
    "}\n",
    "'''"
   ]
  },
  {
   "attachments": {},
   "cell_type": "markdown",
   "metadata": {},
   "source": [
    "however, this code does not work as we wanted:"
   ]
  },
  {
   "cell_type": "code",
   "execution_count": 9,
   "metadata": {},
   "outputs": [],
   "source": [
    "swap_c = '''\n",
    "#include <stdio.h>\n",
    "\n",
    "void swap(int a, int b);\n",
    "\n",
    "int main(void)\n",
    "{\n",
    "    int x = 1;\n",
    "    int y = 2;\n",
    "\n",
    "    printf(\"x = %i, y = %i\\n\", x, y);\n",
    "    swap(x, y);\n",
    "    printf(\"x = %i, y = %i\\n\", x, y);\n",
    "}\n",
    "\n",
    "void swap(int a, int b)\n",
    "{\n",
    "    int tmp = a;\n",
    "    a = b;\n",
    "    b = tmp;\n",
    "}\n",
    "'''"
   ]
  },
  {
   "attachments": {},
   "cell_type": "markdown",
   "metadata": {},
   "source": [
    "if we implement this function, we would see that the actual X and Y did not change their values, since they are changed only inside of a function"
   ]
  },
  {
   "attachments": {},
   "cell_type": "markdown",
   "metadata": {},
   "source": [
    "# Memory levels"
   ]
  },
  {
   "attachments": {},
   "cell_type": "markdown",
   "metadata": {},
   "source": [
    "![](./pic/4.png)"
   ]
  },
  {
   "attachments": {},
   "cell_type": "markdown",
   "metadata": {},
   "source": [
    "- machine code  - compiled code (at the top)\n",
    "- global variables - any variables that are outside of function\n",
    "- heap - malloc\n",
    "- stack - local variables"
   ]
  },
  {
   "attachments": {},
   "cell_type": "markdown",
   "metadata": {},
   "source": [
    "as we use more and more heap and stack memory - eventually, this can lead to **Stack overflow** - the problem when Stack and Heap parts of memory overflow each other"
   ]
  },
  {
   "attachments": {},
   "cell_type": "markdown",
   "metadata": {},
   "source": [
    "we can fix the problem by providing not the values of X and Y, but their actual location in computers memory"
   ]
  },
  {
   "cell_type": "code",
   "execution_count": 10,
   "metadata": {},
   "outputs": [],
   "source": [
    "swap_c_correct = '''\n",
    "void swap(int *a, int *b)\n",
    "{\n",
    "    int tmp = *a;\n",
    "    *a = *b;\n",
    "    *b = tmp;\n",
    "}\n",
    "'''"
   ]
  }
 ],
 "metadata": {
  "kernelspec": {
   "display_name": "Python 3",
   "language": "python",
   "name": "python3"
  },
  "language_info": {
   "codemirror_mode": {
    "name": "ipython",
    "version": 3
   },
   "file_extension": ".py",
   "mimetype": "text/x-python",
   "name": "python",
   "nbconvert_exporter": "python",
   "pygments_lexer": "ipython3",
   "version": "3.11.1"
  },
  "orig_nbformat": 4,
  "vscode": {
   "interpreter": {
    "hash": "949777d72b0d2535278d3dc13498b2535136f6dfe0678499012e853ee9abcab1"
   }
  }
 },
 "nbformat": 4,
 "nbformat_minor": 2
}
