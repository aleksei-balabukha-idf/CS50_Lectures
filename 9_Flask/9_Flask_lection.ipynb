{
 "cells": [
  {
   "attachments": {},
   "cell_type": "markdown",
   "metadata": {},
   "source": [
    "# Flask"
   ]
  },
  {
   "attachments": {},
   "cell_type": "markdown",
   "metadata": {},
   "source": [
    "HTML, CSS and JavaScript are more and more commonly used stack for development not only Web applications, but also Desktop Applications and Mobile apps"
   ]
  },
  {
   "attachments": {},
   "cell_type": "markdown",
   "metadata": {},
   "source": [
    "There is language called Swift fot IOS applications development and Java for Android, but coding applications in Both of those languages means knowing twice as many languages and building twice as many applications "
   ]
  },
  {
   "attachments": {},
   "cell_type": "markdown",
   "metadata": {},
   "source": [
    "So we increasingly seeing that the world is starting to standardize on HTML, CSS, JS coupled with other languages like Python, SQL (Backend)"
   ]
  },
  {
   "attachments": {},
   "cell_type": "markdown",
   "metadata": {},
   "source": [
    "http-server command we used before allows to create Static web pages, it does not allow to interact with user beyond simple clicks   \n",
    "this server can not actually process the requests"
   ]
  },
  {
   "cell_type": "code",
   "execution_count": null,
   "metadata": {
    "vscode": {
     "languageId": "plaintext"
    }
   },
   "outputs": [],
   "source": [
    "https://www.example.com/path     =     https://www.example.com/route"
   ]
  },
  {
   "attachments": {},
   "cell_type": "markdown",
   "metadata": {},
   "source": [
    "this is canonical URL and after the final / the path or **Route** which is maybe a better generic description of what this is, because it does not have to map to specific folder or file"
   ]
  },
  {
   "cell_type": "code",
   "execution_count": null,
   "metadata": {
    "vscode": {
     "languageId": "plaintext"
    }
   },
   "outputs": [],
   "source": [
    "https://www.example.com/path?key=value"
   ]
  },
  {
   "attachments": {},
   "cell_type": "markdown",
   "metadata": {},
   "source": [
    "and if we want the input from user just like Google does in q= form  \n",
    "however, before we could not work with these Q parameters in URL  "
   ]
  },
  {
   "attachments": {},
   "cell_type": "markdown",
   "metadata": {},
   "source": [
    "now we will get these parameters in form of Python Dictionary, using Flask"
   ]
  },
  {
   "attachments": {},
   "cell_type": "markdown",
   "metadata": {},
   "source": [
    "- Flask - is a framework that does a lot of job for us\n",
    "    - for example it helps us to get URL parameters in form of Python Dictionary\n",
    "    - find files or images which human wants to see, when visit our web site\n",
    "    - even helps to send emails automatically, when for example someone fills out a form, we can dynamically send them email as well\n",
    "    "
   ]
  },
  {
   "attachments": {},
   "cell_type": "markdown",
   "metadata": {},
   "source": [
    "and to do all of that we need some pretty minimalist requirements of this framework:\n",
    "- app.py - where our web application is going to live \n",
    "- requirements.txt - dependencies on libraries. In this file we list names of those libraries\n",
    "- static/ - folder, in which files, that are not going to change: Images, CSS, JS files\n",
    "- templates/ - folder with HTML files for different web pages"
   ]
  },
  {
   "attachments": {},
   "cell_type": "markdown",
   "metadata": {},
   "source": [
    "do we have to build wep apps like that? - No  \n",
    "however, it is convention for this particular framework"
   ]
  },
  {
   "attachments": {},
   "cell_type": "markdown",
   "metadata": {},
   "source": [
    "there are other frameworks like: Django, ASP.net etc"
   ]
  },
  {
   "attachments": {},
   "cell_type": "markdown",
   "metadata": {},
   "source": [
    "Flask is a very nice Micro Framework, with minimalist requirements"
   ]
  },
  {
   "attachments": {},
   "cell_type": "markdown",
   "metadata": {},
   "source": [
    "- __name__ - refers to the name of the current file"
   ]
  },
  {
   "attachments": {},
   "cell_type": "markdown",
   "metadata": {},
   "source": [
    "for the very 1st iteration of creating a simple web app - that only says Hello to user, we need this Python code in app.py:"
   ]
  },
  {
   "cell_type": "code",
   "execution_count": null,
   "metadata": {
    "vscode": {
     "languageId": "plaintext"
    }
   },
   "outputs": [],
   "source": [
    "from flask import Flask, render_template, request\n",
    "\n",
    "# tells Flask: \"turn this file into Flask application\"\n",
    "app = Flask(__name__)\n",
    "\n",
    "# when to call index function:\n",
    "@app.route(\"/\")\n",
    "# function, which when is called - returns result of rendering html file\n",
    "def index():\n",
    "    return render_template(\"index.html\")"
   ]
  },
  {
   "attachments": {},
   "cell_type": "markdown",
   "metadata": {},
   "source": [
    "- render html file - print on users screen"
   ]
  },
  {
   "attachments": {},
   "cell_type": "markdown",
   "metadata": {},
   "source": [
    "@app.route(\"/\") - Decorator in Python:  \n",
    "- Decorator in Python - is a special type of function that modifies another function"
   ]
  },
  {
   "attachments": {},
   "cell_type": "markdown",
   "metadata": {},
   "source": [
    "@app.route(\"/\") - define Route for \"/\" (i.e. default page on our web application)"
   ]
  },
  {
   "attachments": {},
   "cell_type": "markdown",
   "metadata": {},
   "source": [
    "after creating index.html file, which has nothing else than simply say hello, we then can Run our application  \n",
    "http-server - is static, it does not know about Python, so if we would open app.py from that server, it would only show Python code and nothing else"
   ]
  },
  {
   "attachments": {},
   "cell_type": "markdown",
   "metadata": {},
   "source": [
    "- *flask run* - runs server Flask server"
   ]
  },
  {
   "attachments": {},
   "cell_type": "markdown",
   "metadata": {},
   "source": [
    "we see our static page, but what if we add : */?name=David* at the end of URL? - Nothing changed, but!  \n",
    "the opportunity to get that input from that URL and start displaying it to the User"
   ]
  },
  {
   "attachments": {},
   "cell_type": "markdown",
   "metadata": {},
   "source": [
    "    <body>\n",
    "        hello, ???\n",
    "    </body>"
   ]
  },
  {
   "attachments": {},
   "cell_type": "markdown",
   "metadata": {},
   "source": [
    "in ??? we need some kind of placeholder to add there name of user from URL"
   ]
  },
  {
   "attachments": {},
   "cell_type": "markdown",
   "metadata": {},
   "source": [
    "    <body>\n",
    "        hello, {{ name }}\n",
    "    </body>"
   ]
  },
  {
   "cell_type": "code",
   "execution_count": null,
   "metadata": {
    "vscode": {
     "languageId": "plaintext"
    }
   },
   "outputs": [],
   "source": [
    "    name = request.args.get(\"name\") # go to the current request, into its arguments in URL, and get value of Name parameter\n",
    "    return render_template(\"index.html\", name=name)"
   ]
  },
  {
   "attachments": {},
   "cell_type": "markdown",
   "metadata": {},
   "source": [
    "that is how we can get value from URL parameters"
   ]
  },
  {
   "attachments": {},
   "cell_type": "markdown",
   "metadata": {},
   "source": [
    "to ensure that the form is filled, we could add \"required\" parameter to form tag:  \n"
   ]
  },
  {
   "cell_type": "code",
   "execution_count": null,
   "metadata": {
    "vscode": {
     "languageId": "plaintext"
    }
   },
   "outputs": [],
   "source": [
    "<input autocomplete=\"off\" autofocus name=\"name\" placeholder=\"Name\" required type=\"tex\">"
   ]
  },
  {
   "attachments": {},
   "cell_type": "markdown",
   "metadata": {},
   "source": [
    "however, we should never rely logic on Client side, since if curious user change HTML code, it can let it then go the page without filling this form"
   ]
  },
  {
   "attachments": {},
   "cell_type": "markdown",
   "metadata": {},
   "source": [
    "# Design"
   ]
  },
  {
   "attachments": {},
   "cell_type": "markdown",
   "metadata": {},
   "source": [
    "when we add \"greet.html\" and \"index.html\", we can see that this is Bad design, since there are so much repetition out there,  \n",
    "what if we have 100 different scenarios?  \n",
    "if we would want to change something in one place, we then would need to change this in 100 places!"
   ]
  },
  {
   "attachments": {},
   "cell_type": "markdown",
   "metadata": {},
   "source": [
    "so we need ability to factor out commonalities"
   ]
  },
  {
   "attachments": {},
   "cell_type": "markdown",
   "metadata": {},
   "source": [
    "We can create one file \"layout.html\" - and add Placeholder for blocks in body:"
   ]
  },
  {
   "cell_type": "code",
   "execution_count": null,
   "metadata": {
    "vscode": {
     "languageId": "plaintext"
    }
   },
   "outputs": [],
   "source": [
    "<!DOCTYPE html>\n",
    "\n",
    "<html lang=\"en\">\n",
    "    <head>\n",
    "        <meta name=\"viewport\" content=\"initial-scale=1, width=device-width\">\n",
    "        <title>hello</title>\n",
    "    </head>\n",
    "    <body>\n",
    "        {% block body %}{% endblock %}\n",
    "    </body>\n",
    "</html>"
   ]
  },
  {
   "attachments": {},
   "cell_type": "markdown",
   "metadata": {},
   "source": [
    "and then we need to change our index.html file:"
   ]
  },
  {
   "cell_type": "code",
   "execution_count": null,
   "metadata": {
    "vscode": {
     "languageId": "plaintext"
    }
   },
   "outputs": [],
   "source": [
    "{% extends \"layout.html\" %}\n",
    "\n",
    "{% block body %}\n",
    "\n",
    "    <form action=\"/greet\" method=\"get\">\n",
    "        <input autocomplete=\"off\" autofocus name=\"name\" placeholder=\"Name\" required type=\"text\">\n",
    "        <input type=\"submit\">\n",
    "    </form>\n",
    "\n",
    "{% endblock %}"
   ]
  },
  {
   "attachments": {},
   "cell_type": "markdown",
   "metadata": {},
   "source": [
    "this means that this file extends Layout.html"
   ]
  },
  {
   "attachments": {},
   "cell_type": "markdown",
   "metadata": {},
   "source": [
    "{% ... %} - example of **Jinja** syntax"
   ]
  },
  {
   "attachments": {},
   "cell_type": "markdown",
   "metadata": {},
   "source": [
    "- Jinja language - was invented for Templates"
   ]
  },
  {
   "attachments": {},
   "cell_type": "markdown",
   "metadata": {},
   "source": [
    "it is better in design"
   ]
  },
  {
   "attachments": {},
   "cell_type": "markdown",
   "metadata": {},
   "source": [
    "# Privacy"
   ]
  },
  {
   "attachments": {},
   "cell_type": "markdown",
   "metadata": {},
   "source": [
    "When the form is filled and submitted, the result is added into URL"
   ]
  },
  {
   "attachments": {},
   "cell_type": "markdown",
   "metadata": {},
   "source": [
    "this might be dangerous, since we do not want to share some sensitive information with Browser history, we want to provide it in more safety manner"
   ]
  },
  {
   "attachments": {},
   "cell_type": "markdown",
   "metadata": {},
   "source": [
    "we can change method from GET to POST:"
   ]
  },
  {
   "cell_type": "code",
   "execution_count": null,
   "metadata": {
    "vscode": {
     "languageId": "plaintext"
    }
   },
   "outputs": [],
   "source": [
    "    <form action=\"/greet\" method=\"post\">"
   ]
  },
  {
   "attachments": {},
   "cell_type": "markdown",
   "metadata": {},
   "source": [
    "however, we then will se error : \"Method Not Allowed\"  \n",
    "because Flask supports GET method by default,  \n",
    "we then can change its behavior:"
   ]
  },
  {
   "cell_type": "code",
   "execution_count": null,
   "metadata": {
    "vscode": {
     "languageId": "plaintext"
    }
   },
   "outputs": [],
   "source": [
    "@app.route(\"/greet\", methods=[\"POST\"])"
   ]
  },
  {
   "attachments": {},
   "cell_type": "markdown",
   "metadata": {},
   "source": [
    "and then to get value from POST requests, we need to use *request.form*"
   ]
  },
  {
   "cell_type": "code",
   "execution_count": null,
   "metadata": {
    "vscode": {
     "languageId": "plaintext"
    }
   },
   "outputs": [],
   "source": [
    "    name = request.form.get(\"name\", \"world\") # world - default value, if nothing passed"
   ]
  },
  {
   "attachments": {},
   "cell_type": "markdown",
   "metadata": {},
   "source": [
    "# MVC (Model View Controller) paradigm"
   ]
  },
  {
   "attachments": {},
   "cell_type": "markdown",
   "metadata": {},
   "source": [
    "Flask is just one of available frameworks that all represent the same Paradigm  \n",
    "![](./pic/MVC.png)"
   ]
  },
  {
   "attachments": {},
   "cell_type": "markdown",
   "metadata": {},
   "source": [
    "- Controller - app.py - code that implements Business Logic (makes all decisions: what to render, what values to show etc)\n",
    "- View - layout.html, greet.html, ... - templates or Visualizations that Users see (UI), those things are dumb - they just say \"plop some values here\"\n",
    "- Model - csv files or DataBases, where we keep data"
   ]
  },
  {
   "attachments": {},
   "cell_type": "markdown",
   "metadata": {},
   "source": [
    "# First year intramural sports app"
   ]
  },
  {
   "attachments": {},
   "cell_type": "markdown",
   "metadata": {},
   "source": [
    "we create web app that stores your name, email and sport that you want to register for in DataBase and sends you email confirmation"
   ]
  },
  {
   "attachments": {},
   "cell_type": "markdown",
   "metadata": {},
   "source": [
    "# Session"
   ]
  },
  {
   "attachments": {},
   "cell_type": "markdown",
   "metadata": {},
   "source": [
    "- Session - is a feature that is similar to Shopping Cart - when we add things to shopping cart, they follow us from page to page"
   ]
  },
  {
   "attachments": {},
   "cell_type": "markdown",
   "metadata": {},
   "source": [
    "When we are logged in to some wep-site during some time we still logged in"
   ]
  },
  {
   "attachments": {},
   "cell_type": "markdown",
   "metadata": {},
   "source": [
    "### Cookies  \n",
    "The similar term is Cookies - something that remembers information"
   ]
  },
  {
   "attachments": {},
   "cell_type": "markdown",
   "metadata": {},
   "source": [
    "Gmail gives a very long session time to its users"
   ]
  },
  {
   "attachments": {},
   "cell_type": "markdown",
   "metadata": {},
   "source": [
    "Cookie - is some big number that is put on your computer by a web site to know that you is you, when you receive HTTP response from wep site  \n",
    "since it is very big and random, there is very very low probability that someone can just guess it and pretend to be you"
   ]
  },
  {
   "attachments": {},
   "cell_type": "markdown",
   "metadata": {},
   "source": [
    "this part web-site sends to us: *Set-Cookie: session=value*  \n",
    "and then in subsequent requests we send *Cookie: session=value*"
   ]
  },
  {
   "attachments": {},
   "cell_type": "markdown",
   "metadata": {},
   "source": [
    "to illustrate this we can create simple Log in app"
   ]
  },
  {
   "attachments": {},
   "cell_type": "markdown",
   "metadata": {},
   "source": [
    "Sessions are supported in Flask Framework"
   ]
  },
  {
   "attachments": {},
   "cell_type": "markdown",
   "metadata": {},
   "source": [
    "Session Configuration: there are different ways to Server can store Cookies in:\n",
    "- DataBase\n",
    "- File\n",
    "- Memory\n",
    "- RAM\n",
    "- other places"
   ]
  },
  {
   "attachments": {},
   "cell_type": "markdown",
   "metadata": {},
   "source": [
    "in our example we are telling Server to store these Cookies in Server's Hard drive"
   ]
  },
  {
   "attachments": {},
   "cell_type": "markdown",
   "metadata": {},
   "source": [
    "- When we connect to API - it would return JSON data to us\n",
    "    - We can convert it to HTML code to show on a page\n",
    "- HTML and CSS are user to present the data (view)\n",
    "- Python - to send or get data on the Backend server \n",
    "- JavaScript is used to make things Dynamic and Interactive"
   ]
  },
  {
   "attachments": {},
   "cell_type": "markdown",
   "metadata": {},
   "source": [
    "- we can use GitHub to store code\n",
    "- Netlify - to store web-site on Internet\n",
    "- Heroku - to host more dynamic web site, which takes inputs etc"
   ]
  },
  {
   "cell_type": "markdown",
   "metadata": {},
   "source": []
  }
 ],
 "metadata": {
  "language_info": {
   "name": "python"
  },
  "orig_nbformat": 4
 },
 "nbformat": 4,
 "nbformat_minor": 2
}
